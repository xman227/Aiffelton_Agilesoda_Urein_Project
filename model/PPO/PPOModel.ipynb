{
 "cells": [
  {
   "cell_type": "markdown",
   "id": "8fe7344c",
   "metadata": {},
   "source": [
    "# 1. Simulation"
   ]
  },
  {
   "cell_type": "code",
   "execution_count": 1,
   "id": "b02b2de2",
   "metadata": {},
   "outputs": [
    {
     "name": "stdout",
     "output_type": "stream",
     "text": [
      "reward: -0.1 -0.2 15\n"
     ]
    }
   ],
   "source": [
    "from string import ascii_uppercase\n",
    "from draw_utils import *\n",
    "from pyglet.gl import *\n",
    "import numpy as np\n",
    "import pandas as pd\n",
    "import os\n",
    "\n",
    "\n",
    "\n",
    "# reward\n",
    "move_reward = -0.1\n",
    "obs_reward = -0.2\n",
    "goal_reward = 15\n",
    "print('reward:' , move_reward, obs_reward, goal_reward)\n",
    "\n",
    "local_path = '/home/zlxlekta924/YC' #os.path.abspath(os.path.join(os.path.dirname(__file__)))\n",
    "\n",
    "\n",
    "class Simulator:\n",
    "    def __init__(self):\n",
    "        '''\n",
    "        height : 그리드 높이\n",
    "        width : 그리드 너비 \n",
    "        inds : A ~ Q alphabet list\n",
    "        '''\n",
    "\n",
    "        \n",
    "        # Load train data\n",
    "        self.files = pd.read_csv(os.path.join(local_path, \"./data/factory_order_train.csv\"))\n",
    "        self.height = 10\n",
    "        self.width = 9\n",
    "        self.inds = list(ascii_uppercase)[:17]\n",
    "        self.clear_item = False\n",
    "\n",
    "    def set_box(self):\n",
    "        '''\n",
    "        아이템들이 있을 위치를 미리 정해놓고 그 위치 좌표들에 아이템이 들어올 수 있으므로 그리드에 100으로 표시한다.\n",
    "        데이터 파일에서 이번 에피소드 아이템 정보를 받아 가져와야 할 아이템이 있는 좌표만 -100으로 표시한다.\n",
    "        self.local_target에 에이전트가 이번에 방문해야할 좌표들을 저장한다.\n",
    "        따라서 가져와야하는 아이템 좌표와 end point 좌표(처음 시작했던 좌표로 돌아와야하므로)가 들어가게 된다.\n",
    "        '''\n",
    "        box_data = pd.read_csv(os.path.join(local_path, \"./data/box.csv\"))\n",
    "\n",
    "        # 물건이 들어있을 수 있는 경우\n",
    "        for box in box_data.itertuples(index = True, name ='Pandas'):\n",
    "            self.grid[getattr(box, \"row\")][getattr(box, \"col\")] = 0    #####################수정 100 -> 0\n",
    "\n",
    "        # 물건이 실제 들어있는 경우\n",
    "        order_item = list(set(self.inds) & set(self.items))\n",
    "        order_csv = box_data[box_data['item'].isin(order_item)]\n",
    "    \n",
    "        #print(order_csv) ######################################## 수정\n",
    "        \n",
    "        for order_box in order_csv.itertuples(index = True, name ='Pandas'):\n",
    "            self.grid[getattr(order_box, \"row\")][getattr(order_box, \"col\")] = 2   ###################### 수정 -100 -> 0\n",
    "            # local target에 가야 할 위치 좌표 넣기\n",
    "            self.local_target.append(\n",
    "                [getattr(order_box, \"row\"),\n",
    "                 getattr(order_box, \"col\")]\n",
    "                )\n",
    "        self.local_target.append([9,4]) \n",
    "        #self.grid[self.local_target[0][0]][self.local_target[0][1]] = -100 #############################수정\n",
    "        # 알파벳을 Grid에 넣어서 -> grid에 2Dconv 적용 가능\n",
    "\n",
    "    def set_obstacle(self):\n",
    "        '''\n",
    "        장애물이 있어야하는 위치는 미리 obstacles.csv에 정의되어 있다. 이 좌표들을 0으로 표시한다.\n",
    "        '''\n",
    "        obstacles_data = pd.read_csv(os.path.join(local_path, \"./data/obstacles.csv\"))\n",
    "        for obstacle in obstacles_data.itertuples(index = True, name ='Pandas'):\n",
    "            self.grid[getattr(obstacle, \"row\")][getattr(obstacle, \"col\")] = 0\n",
    "\n",
    "    def reset(self, epi):\n",
    "        '''\n",
    "        reset()은 첫 스텝에서 사용되며 그리드에서 에이전트 위치가 start point에 있게 한다.\n",
    "\n",
    "        :param epi: episode, 에피소드 마다 가져와야 할 아이템 리스트를 불러올 때 사용\n",
    "        :return: 초기셋팅 된 그리드\n",
    "        :rtype: numpy.ndarray\n",
    "        _____________________________________________________________________________________\n",
    "        items : 이번 에피소드에서 가져와야하는 아이템들\n",
    "        terminal_location : 현재 에이전트가 찾아가야하는 목적지\n",
    "        local_target : 한 에피소드에서 찾아가야하는 아이템 좌표, 마지막 엔드 포인트 등의 위치좌표들\n",
    "        actions: visualization을 위해 에이전트 action을 저장하는 리스트\n",
    "        curloc : 현재 위치\n",
    "        '''\n",
    "\n",
    "        # initial episode parameter setting\n",
    "        self.epi = epi\n",
    "        self.items = list(self.files.iloc[self.epi])[0]\n",
    "        self.cumulative_reward = 0\n",
    "        self.terminal_location = None\n",
    "        self.local_target = []\n",
    "        self.actions = []\n",
    "\n",
    "        # initial grid setting\n",
    "        self.grid = np.ones((self.height, self.width), dtype=\"float16\")\n",
    "\n",
    "        # set information about the gridworld\n",
    "        self.set_box()\n",
    "        self.set_obstacle()\n",
    "\n",
    "        # start point를 grid에 표시\n",
    "        self.curloc = [9, 4]\n",
    "        self.grid[int(self.curloc[0])][int(self.curloc[1])] = 3\n",
    "        self.item_now = False\n",
    "\n",
    "        self.done = False\n",
    "        \n",
    "        #print('###########################')  ###################################수정한 부분\n",
    "        #print(f'items loc : {self.local_target}')\n",
    "        \n",
    "        \n",
    "        return self.grid\n",
    "\n",
    "    def apply_action(self, action, cur_x, cur_y):\n",
    "        '''\n",
    "        에이전트가 행한 action대로 현 에이전트의 위치좌표를 바꾼다.\n",
    "        action은 discrete하며 4가지 up,down,left,right으로 정의된다.\n",
    "        \n",
    "        :param x: 에이전트의 현재 x 좌표\n",
    "        :param y: 에이전트의 현재 y 좌표\n",
    "        :return: action에 따라 변한 에이전트의 x 좌표, y 좌표\n",
    "        :rtype: int, int\n",
    "        '''\n",
    "        new_x = cur_x\n",
    "        new_y = cur_y\n",
    "        # up\n",
    "        if action == 0:\n",
    "            new_x = cur_x - 1\n",
    "        # down\n",
    "        elif action == 1:\n",
    "            new_x = cur_x + 1\n",
    "        # left\n",
    "        elif action == 2:\n",
    "            new_y = cur_y - 1\n",
    "        # right\n",
    "        else:\n",
    "            new_y = cur_y + 1\n",
    "\n",
    "        return int(new_x), int(new_y)\n",
    "\n",
    "\n",
    "    def get_reward(self, new_x, new_y, out_of_boundary):\n",
    "        '''\n",
    "        get_reward함수는 리워드를 계산하는 함수이며, 상황에 따라 에이전트가 action을 옳게 했는지 판단하는 지표가 된다.\n",
    "\n",
    "        :param new_x: action에 따른 에이전트 새로운 위치좌표 x\n",
    "        :param new_y: action에 따른 에이전트 새로운 위치좌표 y\n",
    "        :param out_of_boundary: 에이전트 위치가 그리드 밖이 되지 않도록 제한\n",
    "        :return: action에 따른 리워드\n",
    "        :rtype: float\n",
    "        '''\n",
    "\n",
    "        # 바깥으로 나가는 경우\n",
    "        if any(out_of_boundary):\n",
    "            reward = obs_reward\n",
    "                       \n",
    "        else:\n",
    "            # 장애물에 부딪히는 경우 \n",
    "            if self.grid[new_x][new_y] == 0:\n",
    "                reward = obs_reward  \n",
    "\n",
    "            # 현재 목표에 도달한 경우\n",
    "            elif self.grid[new_x][new_y] == 3:\n",
    "                reward = goal_reward\n",
    "\n",
    "            # 그냥 움직이는 경우 \n",
    "            else:\n",
    "                reward = move_reward\n",
    "\n",
    "        return reward\n",
    "\n",
    "    def step(self, action):\n",
    "        ''' \n",
    "        에이전트의 action에 따라 step을 진행한다.\n",
    "        action에 따라 에이전트 위치를 변환하고, action에 대해 리워드를 받고, 어느 상황에 에피소드가 종료되어야 하는지 등을 판단한다.\n",
    "        에이전트가 endpoint에 도착하면 gif로 에피소드에서 에이전트의 행동이 저장된다.\n",
    "\n",
    "        :param action: 에이전트 행동\n",
    "        :return:\n",
    "            grid, 그리드\n",
    "            reward, 리워드\n",
    "            cumulative_reward, 누적 리워드\n",
    "            done, 종료 여부\n",
    "            goal_ob_reward, goal까지 아이템을 모두 가지고 돌아오는 finish율 계산을 위한 파라미터\n",
    "\n",
    "        :rtype: numpy.ndarray, float, float, bool, bool/str\n",
    "\n",
    "        (Hint : 시작 위치 (9,4)에서 up말고 다른 action은 전부 장애물이므로 action을 고정하는 것이 좋음)\n",
    "        '''\n",
    "        if self.local_target:\n",
    "            self.terminal_location = self.local_target[0]\n",
    "            \n",
    "        cur_x,cur_y = self.curloc\n",
    "        self.actions.append((cur_x, cur_y))\n",
    "\n",
    "        goal_ob_reward = False\n",
    "        \n",
    "        new_x, new_y = self.apply_action(action, cur_x, cur_y)\n",
    "\n",
    "        out_of_boundary = [new_x < 0, new_x >= self.height, new_y < 0, new_y >= self.width]\n",
    "        \n",
    "        # 바깥으로 나가는 경우 종료\n",
    "        if any(out_of_boundary):\n",
    "            reward = self.get_reward(new_x, new_y, out_of_boundary) ######################수정\n",
    "            # self.done = True\n",
    "            # goal_ob_reward = True\n",
    "            \n",
    "        else:\n",
    "            # 장애물에 부딪히는 경우 종료\n",
    "            if self.grid[new_x][new_y] == 0:\n",
    "                # self.done = True\n",
    "                # goal_ob_reward = True\n",
    "                reward = self.get_reward(new_x, new_y, out_of_boundary) ###############################수정\n",
    "\n",
    "                \n",
    "                \n",
    "                # 1. 어떤 아이템이든 들어가면 0으로 바꾸고, 로컬타겟의 해당 좌표만 삭제\n",
    "                #2. 모든 아이템을 다 먹으면 터미널로케이션으로 9,4 설정\n",
    "                \n",
    "            # 현재 목표에 도달한 경우, 다음 목표설정\n",
    "            elif self.grid[new_x][new_y] == 2:\n",
    "                \n",
    "                # 타깃 삭제\n",
    "                self.local_target.remove([new_x, new_y])\n",
    "                \n",
    "                #전 state 에 item 이 있었으면\n",
    "                if self.item_now:\n",
    "                    self.grid[cur_x][cur_y] = 0\n",
    "                    self.grid[new_x][new_y] = 3\n",
    "                else:\n",
    "                    self.grid[cur_x][cur_y] = 1\n",
    "                    self.grid[new_x][new_y] = 3\n",
    "\n",
    "                self.item_now = True\n",
    "#                 self.local_target.remove(self.local_target[0]) 삭제\n",
    "                \n",
    "                goal_ob_reward = True\n",
    "                self.curloc = [new_x, new_y]\n",
    "                \n",
    "                reward = self.get_reward(new_x, new_y, out_of_boundary)\n",
    "                \n",
    "            elif [new_x, new_y] == [9,4] and len(self.local_target) == 1:\n",
    "                self.done = True\n",
    "                reward = 20\n",
    "                \n",
    "            else:\n",
    "                # 그냥 움직이는 경우 \n",
    "                \n",
    "                if self.item_now:\n",
    "                    self.grid[cur_x][cur_y] = 0\n",
    "                    self.grid[new_x][new_y] = 3\n",
    "                    self.item_now = False\n",
    "                    \n",
    "                else:\n",
    "                    self.grid[cur_x][cur_y] = 1\n",
    "                    self.grid[new_x][new_y] = 3\n",
    "                    \n",
    "                \n",
    "                self.curloc = [new_x,new_y]\n",
    "                \n",
    "                reward = self.get_reward(new_x, new_y, out_of_boundary)\n",
    "                \n",
    "        #reward = self.get_reward(new_x, new_y, out_of_boundary)  ################################# 수정\n",
    "        #print('reward : ' ,reward) ####################################수정한 부분\n",
    "        \n",
    "        self.cumulative_reward += reward\n",
    "\n",
    "        if self.done == True:\n",
    "            if [new_x, new_y] == [9, 4]:\n",
    "                if self.terminal_location == [9, 4]:\n",
    "                    # 완료되면 GIFS 저장\n",
    "                    goal_ob_reward = 'finish'\n",
    "                    height = 10\n",
    "                    width = 9 \n",
    "                    display = Display(visible=False, size=(width, height))\n",
    "                    display.start()\n",
    "\n",
    "                    start_point = (9, 4)\n",
    "                    unit = 50\n",
    "                    screen_height = height * unit\n",
    "                    screen_width = width * unit\n",
    "                    log_path = \"./ppologs\"\n",
    "                    data_path = \"./data\"\n",
    "                    render_cls = Render(screen_width, screen_height, unit, start_point, data_path, log_path)\n",
    "                    for idx, new_pos in enumerate(self.actions):\n",
    "                        render_cls.update_movement(new_pos, idx+1)\n",
    "                    \n",
    "                    render_cls.save_gif(self.epi)\n",
    "                    render_cls.viewer.close()\n",
    "                    display.stop()\n",
    "        \n",
    "        \n",
    "        return self.grid, reward, self.cumulative_reward, self.done, goal_ob_reward\n"
   ]
  },
  {
   "cell_type": "markdown",
   "id": "54a3245a",
   "metadata": {},
   "source": [
    "## 1. Agent 구성\n"
   ]
  },
  {
   "cell_type": "markdown",
   "id": "98d6f061",
   "metadata": {},
   "source": [
    "## 1-1 PPO"
   ]
  },
  {
   "cell_type": "code",
   "execution_count": 2,
   "id": "badc3db2",
   "metadata": {},
   "outputs": [
    {
     "name": "stderr",
     "output_type": "stream",
     "text": [
      "/home/zlxlekta924/anaconda3/envs/test/lib/python3.7/site-packages/tqdm/auto.py:22: TqdmWarning: IProgress not found. Please update jupyter and ipywidgets. See https://ipywidgets.readthedocs.io/en/stable/user_install.html\n",
      "  from .autonotebook import tqdm as notebook_tqdm\n"
     ]
    }
   ],
   "source": [
    "import torch\n",
    "import torch.nn as nn\n",
    "import torch.nn.functional as F\n",
    "import torch.optim as optim\n",
    "from torch.distributions import Categorical\n",
    "from torch.distributions import MultivariateNormal\n",
    "from torch.distributions import Categorical\n",
    "import numpy as np\n",
    "import time\n",
    "from tqdm import tqdm\n",
    "\n",
    "\n",
    "\n",
    "################################## PPO Policy ##################################\n",
    "class RolloutBuffer:\n",
    "    def __init__(self):\n",
    "        self.actions = []\n",
    "        self.states = []\n",
    "        self.logprobs = []\n",
    "        self.rewards = []\n",
    "        self.is_terminals = []\n",
    "    \n",
    "    def clear(self):\n",
    "        del self.actions[:]\n",
    "        del self.states[:]\n",
    "        del self.logprobs[:]\n",
    "        del self.rewards[:]\n",
    "        del self.is_terminals[:]\n",
    "\n",
    "\n",
    "class ActorCritic(nn.Module):\n",
    "    def __init__(self,action_dim, has_continuous_action_space, action_std_init):\n",
    "        super(ActorCritic, self).__init__()\n",
    "\n",
    "        self.has_continuous_action_space = has_continuous_action_space\n",
    "        \n",
    "        if has_continuous_action_space:\n",
    "            self.action_dim = action_dim\n",
    "            self.action_var = torch.full((action_dim,), action_std_init * action_std_init)\n",
    "        # actor\n",
    "        if has_continuous_action_space :\n",
    "            self.actor = nn.Sequential(\n",
    "                            nn.Flatten(),\n",
    "                            nn.Linear(9, 64),\n",
    "                            nn.Tanh(),\n",
    "                            nn.Linear(64, 64),\n",
    "                            nn.Tanh(),\n",
    "                            nn.Linear(64, action_dim),\n",
    "                        )\n",
    "        else:\n",
    "            self.actor = nn.Sequential(\n",
    "                            nn.Flatten(),\n",
    "                            nn.Linear(90, 128),\n",
    "                            nn.Tanh(),\n",
    "                            nn.Linear(128, 64),\n",
    "                            nn.Tanh(),\n",
    "                            nn.Linear(64, action_dim),\n",
    "                            nn.Softmax(dim=-1)\n",
    "                        )\n",
    "        # critic\n",
    "        self.critic = nn.Sequential(\n",
    "                        nn.Flatten(),\n",
    "                        nn.Linear(90, 128),\n",
    "                        nn.Tanh(),\n",
    "                        nn.Linear(128, 64),\n",
    "                        nn.Tanh(),\n",
    "                        nn.Linear(64, 1)\n",
    "                    )\n",
    "        \n",
    "    def set_action_std(self, new_action_std):\n",
    "        if self.has_continuous_action_space:\n",
    "            self.action_var = torch.full((self.action_dim,), new_action_std * new_action_std)\n",
    "        else:\n",
    "            print(\"--------------------------------------------------------------------------------------------\")\n",
    "            print(\"WARNING : Calling ActorCritic::set_action_std() on discrete action space policy\")\n",
    "            print(\"--------------------------------------------------------------------------------------------\")\n",
    "\n",
    "    def forward(self):\n",
    "        raise NotImplementedError\n",
    "    \n",
    "    def act(self, state):\n",
    "        if self.has_continuous_action_space:\n",
    "            action_mean = self.actor(state)\n",
    "            cov_mat = torch.diag(self.action_var).unsqueeze(dim=0)\n",
    "            dist = MultivariateNormal(action_mean, cov_mat)\n",
    "        else:\n",
    "            action_probs = self.actor(state)\n",
    "            dist = Categorical(action_probs)\n",
    "\n",
    "        action = dist.sample()\n",
    "        action_logprob = dist.log_prob(action)\n",
    "        \n",
    "        return action.detach(), action_logprob.detach()\n",
    "    \n",
    "    def evaluate(self, state, action):\n",
    "\n",
    "        if self.has_continuous_action_space:\n",
    "            action_mean = self.actor(state)\n",
    "            \n",
    "            action_var = self.action_var.expand_as(action_mean)\n",
    "            cov_mat = torch.diag_embed(action_var)\n",
    "            dist = MultivariateNormal(action_mean, cov_mat)\n",
    "            \n",
    "            # For Single Action Environments.\n",
    "            if self.action_dim == 1:\n",
    "                action = action.reshape(-1, self.action_dim)\n",
    "        else:\n",
    "            action_probs = self.actor(state)\n",
    "            dist = Categorical(action_probs)\n",
    "        action_logprobs = dist.log_prob(action)\n",
    "        dist_entropy = dist.entropy()\n",
    "        state_values = self.critic(state)\n",
    "        \n",
    "        return action_logprobs, state_values, dist_entropy\n",
    "\n",
    "\n",
    "class PPO:\n",
    "    def __init__(self, action_dim, lr_actor, lr_critic, gamma, K_epochs, eps_clip, has_continuous_action_space, action_std_init=0.6):\n",
    "\n",
    "        self.has_continuous_action_space = has_continuous_action_space\n",
    "\n",
    "        if has_continuous_action_space:\n",
    "            self.action_std = action_std_init\n",
    "\n",
    "        self.gamma = gamma\n",
    "        self.eps_clip = eps_clip\n",
    "        self.K_epochs = K_epochs\n",
    "        \n",
    "        self.buffer = RolloutBuffer()\n",
    "\n",
    "        self.policy = ActorCritic(action_dim, has_continuous_action_space, action_std_init)\n",
    "        self.optimizer = torch.optim.Adam([\n",
    "                        {'params': self.policy.actor.parameters(), 'lr': lr_actor},\n",
    "                        {'params': self.policy.critic.parameters(), 'lr': lr_critic}\n",
    "                    ])\n",
    "\n",
    "        self.policy_old = ActorCritic(action_dim, has_continuous_action_space, action_std_init)\n",
    "        self.policy_old.load_state_dict(self.policy.state_dict())\n",
    "        \n",
    "        self.MseLoss = nn.MSELoss()\n",
    "\n",
    "    def set_action_std(self, new_action_std):\n",
    "        if self.has_continuous_action_space:\n",
    "            self.action_std = new_action_std\n",
    "            self.policy.set_action_std(new_action_std)\n",
    "            self.policy_old.set_action_std(new_action_std)\n",
    "        else:\n",
    "            print(\"--------------------------------------------------------------------------------------------\")\n",
    "            print(\"WARNING : Calling PPO::set_action_std() on discrete action space policy\")\n",
    "            print(\"--------------------------------------------------------------------------------------------\")\n",
    "\n",
    "    def decay_action_std(self, action_std_decay_rate, min_action_std):\n",
    "        print(\"--------------------------------------------------------------------------------------------\")\n",
    "        if self.has_continuous_action_space:\n",
    "            self.action_std = self.action_std - action_std_decay_rate\n",
    "            self.action_std = round(self.action_std, 4)\n",
    "            if (self.action_std <= min_action_std):\n",
    "                self.action_std = min_action_std\n",
    "                print(\"setting actor output action_std to min_action_std : \", self.action_std)\n",
    "            else:\n",
    "                print(\"setting actor output action_std to : \", self.action_std)\n",
    "            self.set_action_std(self.action_std)\n",
    "\n",
    "        else:\n",
    "            print(\"WARNING : Calling PPO::decay_action_std() on discrete action space policy\")\n",
    "        print(\"--------------------------------------------------------------------------------------------\")\n",
    "\n",
    "    def select_action(self, state):\n",
    "\n",
    "        if self.has_continuous_action_space:\n",
    "            with torch.no_grad():\n",
    "                state = torch.FloatTensor(state)\n",
    "                action, action_logprob = self.policy_old.act(state)\n",
    "\n",
    "            self.buffer.states.append(state)\n",
    "            self.buffer.actions.append(action)\n",
    "            self.buffer.logprobs.append(action_logprob)\n",
    "\n",
    "            return action.detach().cpu().numpy().flatten()\n",
    "        else:\n",
    "            with torch.no_grad():\n",
    "                state = torch.FloatTensor(state)\n",
    "                action, action_logprob = self.policy_old.act(state)\n",
    "            \n",
    "            self.buffer.states.append(state)\n",
    "            self.buffer.actions.append(action)\n",
    "            self.buffer.logprobs.append(action_logprob)\n",
    "\n",
    "            return action.item()\n",
    "\n",
    "    def update(self):\n",
    "        # Monte Carlo estimate of returns\n",
    "        rewards = []\n",
    "        discounted_reward = 0\n",
    "        for reward, is_terminal in zip(reversed(self.buffer.rewards), reversed(self.buffer.is_terminals)):\n",
    "            if is_terminal:\n",
    "                discounted_reward = 0\n",
    "            discounted_reward = reward + (self.gamma * discounted_reward)\n",
    "            rewards.insert(0, discounted_reward)\n",
    "            \n",
    "        # Normalizing the rewards\n",
    "        rewards = torch.tensor(rewards, dtype=torch.float32)\n",
    "        rewards = (rewards - rewards.mean()) / (rewards.std() + 1e-7)\n",
    "\n",
    "        # convert list to tensor\n",
    "        old_states = torch.squeeze(torch.stack(self.buffer.states, dim=0)).detach()\n",
    "        old_actions = torch.squeeze(torch.stack(self.buffer.actions, dim=0)).detach()\n",
    "        old_logprobs = torch.squeeze(torch.stack(self.buffer.logprobs, dim=0)).detach()\n",
    "\n",
    "        # Optimize policy for K epochs\n",
    "        for _ in range(self.K_epochs):\n",
    "\n",
    "            # Evaluating old actions and values\n",
    "            logprobs, state_values, dist_entropy = self.policy.evaluate(old_states, old_actions)\n",
    "\n",
    "            # match state_values tensor dimensions with rewards tensor\n",
    "            state_values = torch.squeeze(state_values)\n",
    "            \n",
    "            # Finding the ratio (pi_theta / pi_theta__old)\n",
    "            ratios = torch.exp(logprobs - old_logprobs.detach())\n",
    "\n",
    "            # Finding Surrogate Loss\n",
    "            advantages = rewards - state_values.detach()   \n",
    "            surr1 = ratios * advantages\n",
    "            surr2 = torch.clamp(ratios, 1-self.eps_clip, 1+self.eps_clip) * advantages\n",
    "\n",
    "            # final loss of clipped objective PPO\n",
    "            loss = -torch.min(surr1, surr2) + 0.5*self.MseLoss(state_values, rewards) - 0.01*dist_entropy\n",
    "            \n",
    "            # take gradient step\n",
    "            self.optimizer.zero_grad()\n",
    "            loss.mean().backward()\n",
    "            self.optimizer.step()\n",
    "            \n",
    "        # Copy new weights into old policy\n",
    "        self.policy_old.load_state_dict(self.policy.state_dict())\n",
    "\n",
    "        # clear buffer\n",
    "        self.buffer.clear()\n",
    "    \n",
    "    def save(self, checkpoint_path):\n",
    "        torch.save(self.policy_old.state_dict(), checkpoint_path)\n",
    "   \n",
    "    def load(self, checkpoint_path):\n",
    "        self.policy_old.load_state_dict(torch.load(checkpoint_path, map_location=lambda storage, loc: storage))\n",
    "        self.policy.load_state_dict(torch.load(checkpoint_path, map_location=lambda storage, loc: storage))"
   ]
  },
  {
   "cell_type": "code",
   "execution_count": null,
   "id": "fa0ed90b",
   "metadata": {},
   "outputs": [
    {
     "name": "stdout",
     "output_type": "stream",
     "text": [
      "============================================================================================\n",
      "current logging run number for Grid World :  21\n",
      "logging at : PPO_logs/PPO_Grid World_log_21.csv\n",
      "save checkpoint path : PPO_preTrainedPPO_Grid World_0_0.pth\n",
      "Started training at (GMT) :  2022-05-25 02:30:09\n",
      "============================================================================================\n"
     ]
    },
    {
     "name": "stderr",
     "output_type": "stream",
     "text": [
      "  0%|                                                                     | 21/39999 [00:04<2:48:51,  3.95it/s]"
     ]
    },
    {
     "name": "stdout",
     "output_type": "stream",
     "text": [
      "Episode : 19 \t\t Timestep : 2000 \t\t Average Reward : 985.03\n"
     ]
    },
    {
     "name": "stderr",
     "output_type": "stream",
     "text": [
      "  0%|                                                                     | 41/39999 [00:09<2:47:29,  3.98it/s]"
     ]
    },
    {
     "name": "stdout",
     "output_type": "stream",
     "text": [
      "Episode : 39 \t\t Timestep : 4000 \t\t Average Reward : 955.31\n"
     ]
    },
    {
     "name": "stderr",
     "output_type": "stream",
     "text": [
      "  0%|                                                                     | 62/39999 [00:14<2:27:42,  4.51it/s]"
     ]
    },
    {
     "name": "stdout",
     "output_type": "stream",
     "text": [
      "Episode : 59 \t\t Timestep : 6000 \t\t Average Reward : 1003.35\n"
     ]
    },
    {
     "name": "stderr",
     "output_type": "stream",
     "text": [
      "  0%|▏                                                                    | 82/39999 [00:19<2:17:11,  4.85it/s]"
     ]
    },
    {
     "name": "stdout",
     "output_type": "stream",
     "text": [
      "Episode : 79 \t\t Timestep : 8000 \t\t Average Reward : 1004.33\n"
     ]
    },
    {
     "name": "stderr",
     "output_type": "stream",
     "text": [
      "  0%|▏                                                                   | 100/39999 [00:24<3:25:45,  3.23it/s]"
     ]
    },
    {
     "name": "stdout",
     "output_type": "stream",
     "text": [
      "Episode : 99 \t\t Timestep : 10000 \t\t Average Reward : 1097.45\n"
     ]
    },
    {
     "name": "stderr",
     "output_type": "stream",
     "text": [
      "  0%|▏                                                                   | 122/39999 [00:30<2:49:12,  3.93it/s]"
     ]
    },
    {
     "name": "stdout",
     "output_type": "stream",
     "text": [
      "Episode : 119 \t\t Timestep : 12000 \t\t Average Reward : 1127.4\n"
     ]
    },
    {
     "name": "stderr",
     "output_type": "stream",
     "text": [
      "  0%|▏                                                                   | 141/39999 [00:34<2:39:29,  4.17it/s]"
     ]
    },
    {
     "name": "stdout",
     "output_type": "stream",
     "text": [
      "Episode : 139 \t\t Timestep : 14000 \t\t Average Reward : 1065.57\n"
     ]
    },
    {
     "name": "stderr",
     "output_type": "stream",
     "text": [
      "  0%|▎                                                                   | 162/39999 [00:39<2:07:47,  5.20it/s]"
     ]
    },
    {
     "name": "stdout",
     "output_type": "stream",
     "text": [
      "Episode : 159 \t\t Timestep : 16000 \t\t Average Reward : 1221.56\n"
     ]
    },
    {
     "name": "stderr",
     "output_type": "stream",
     "text": [
      "  0%|▎                                                                   | 182/39999 [00:44<2:15:29,  4.90it/s]"
     ]
    },
    {
     "name": "stdout",
     "output_type": "stream",
     "text": [
      "Episode : 179 \t\t Timestep : 18000 \t\t Average Reward : 1258.54\n"
     ]
    },
    {
     "name": "stderr",
     "output_type": "stream",
     "text": [
      "  1%|▎                                                                   | 202/39999 [00:49<2:32:08,  4.36it/s]"
     ]
    },
    {
     "name": "stdout",
     "output_type": "stream",
     "text": [
      "Episode : 199 \t\t Timestep : 20000 \t\t Average Reward : 1281.46\n"
     ]
    },
    {
     "name": "stderr",
     "output_type": "stream",
     "text": [
      "  1%|▍                                                                   | 221/39999 [00:54<2:58:35,  3.71it/s]"
     ]
    },
    {
     "name": "stdout",
     "output_type": "stream",
     "text": [
      "Episode : 219 \t\t Timestep : 22000 \t\t Average Reward : 1317.16\n"
     ]
    },
    {
     "name": "stderr",
     "output_type": "stream",
     "text": [
      "  1%|▍                                                                   | 240/39999 [00:59<3:35:32,  3.07it/s]"
     ]
    },
    {
     "name": "stdout",
     "output_type": "stream",
     "text": [
      "Episode : 239 \t\t Timestep : 24000 \t\t Average Reward : 1338.31\n"
     ]
    },
    {
     "name": "stderr",
     "output_type": "stream",
     "text": [
      "  1%|▍                                                                   | 261/39999 [01:05<3:19:42,  3.32it/s]"
     ]
    },
    {
     "name": "stdout",
     "output_type": "stream",
     "text": [
      "Episode : 259 \t\t Timestep : 26000 \t\t Average Reward : 1282.56\n"
     ]
    },
    {
     "name": "stderr",
     "output_type": "stream",
     "text": [
      "  1%|▍                                                                   | 280/39999 [01:10<3:20:22,  3.30it/s]"
     ]
    },
    {
     "name": "stdout",
     "output_type": "stream",
     "text": [
      "Episode : 279 \t\t Timestep : 28000 \t\t Average Reward : 1297.13\n"
     ]
    },
    {
     "name": "stderr",
     "output_type": "stream",
     "text": [
      "  1%|▌                                                                   | 300/39999 [01:15<3:31:30,  3.13it/s]"
     ]
    },
    {
     "name": "stdout",
     "output_type": "stream",
     "text": [
      "Episode : 299 \t\t Timestep : 30000 \t\t Average Reward : 1258.35\n"
     ]
    },
    {
     "name": "stderr",
     "output_type": "stream",
     "text": [
      "  1%|▌                                                                   | 322/39999 [01:20<2:27:38,  4.48it/s]"
     ]
    },
    {
     "name": "stdout",
     "output_type": "stream",
     "text": [
      "Episode : 319 \t\t Timestep : 32000 \t\t Average Reward : 1252.78\n"
     ]
    },
    {
     "name": "stderr",
     "output_type": "stream",
     "text": [
      "  1%|▌                                                                   | 342/39999 [01:25<2:52:31,  3.83it/s]"
     ]
    },
    {
     "name": "stdout",
     "output_type": "stream",
     "text": [
      "Episode : 339 \t\t Timestep : 34000 \t\t Average Reward : 1123.87\n"
     ]
    },
    {
     "name": "stderr",
     "output_type": "stream",
     "text": [
      "  1%|▌                                                                   | 362/39999 [01:30<2:26:41,  4.50it/s]"
     ]
    },
    {
     "name": "stdout",
     "output_type": "stream",
     "text": [
      "Episode : 359 \t\t Timestep : 36000 \t\t Average Reward : 1029.58\n"
     ]
    },
    {
     "name": "stderr",
     "output_type": "stream",
     "text": [
      "  1%|▋                                                                   | 381/39999 [01:35<3:02:14,  3.62it/s]"
     ]
    },
    {
     "name": "stdout",
     "output_type": "stream",
     "text": [
      "Episode : 379 \t\t Timestep : 38000 \t\t Average Reward : 1175.36\n"
     ]
    },
    {
     "name": "stderr",
     "output_type": "stream",
     "text": [
      "  1%|▋                                                                   | 401/39999 [01:41<2:58:59,  3.69it/s]"
     ]
    },
    {
     "name": "stdout",
     "output_type": "stream",
     "text": [
      "Episode : 399 \t\t Timestep : 40000 \t\t Average Reward : 1351.49\n"
     ]
    },
    {
     "name": "stderr",
     "output_type": "stream",
     "text": [
      "  1%|▋                                                                   | 422/39999 [01:46<2:30:44,  4.38it/s]"
     ]
    },
    {
     "name": "stdout",
     "output_type": "stream",
     "text": [
      "Episode : 419 \t\t Timestep : 42000 \t\t Average Reward : 1243.02\n"
     ]
    },
    {
     "name": "stderr",
     "output_type": "stream",
     "text": [
      "  1%|▊                                                                   | 442/39999 [01:51<2:16:22,  4.83it/s]"
     ]
    },
    {
     "name": "stdout",
     "output_type": "stream",
     "text": [
      "Episode : 439 \t\t Timestep : 44000 \t\t Average Reward : 1244.5\n"
     ]
    },
    {
     "name": "stderr",
     "output_type": "stream",
     "text": [
      "  1%|▊                                                                   | 461/39999 [01:56<3:09:06,  3.48it/s]"
     ]
    },
    {
     "name": "stdout",
     "output_type": "stream",
     "text": [
      "Episode : 459 \t\t Timestep : 46000 \t\t Average Reward : 1192.7\n"
     ]
    },
    {
     "name": "stderr",
     "output_type": "stream",
     "text": [
      "  1%|▊                                                                   | 481/39999 [02:01<2:47:06,  3.94it/s]"
     ]
    },
    {
     "name": "stdout",
     "output_type": "stream",
     "text": [
      "Episode : 479 \t\t Timestep : 48000 \t\t Average Reward : 1132.25\n"
     ]
    },
    {
     "name": "stderr",
     "output_type": "stream",
     "text": [
      "  1%|▊                                                                   | 502/39999 [02:06<2:13:28,  4.93it/s]"
     ]
    },
    {
     "name": "stdout",
     "output_type": "stream",
     "text": [
      "Episode : 499 \t\t Timestep : 50000 \t\t Average Reward : 1218.03\n"
     ]
    },
    {
     "name": "stderr",
     "output_type": "stream",
     "text": [
      "  1%|▉                                                                   | 521/39999 [02:11<2:47:31,  3.93it/s]"
     ]
    },
    {
     "name": "stdout",
     "output_type": "stream",
     "text": [
      "Episode : 519 \t\t Timestep : 52000 \t\t Average Reward : 1196.15\n"
     ]
    },
    {
     "name": "stderr",
     "output_type": "stream",
     "text": [
      "  1%|▉                                                                   | 540/39999 [02:16<3:38:27,  3.01it/s]"
     ]
    },
    {
     "name": "stdout",
     "output_type": "stream",
     "text": [
      "Episode : 539 \t\t Timestep : 54000 \t\t Average Reward : 1231.69\n"
     ]
    },
    {
     "name": "stderr",
     "output_type": "stream",
     "text": [
      "  1%|▉                                                                   | 561/39999 [02:21<2:51:15,  3.84it/s]"
     ]
    },
    {
     "name": "stdout",
     "output_type": "stream",
     "text": [
      "Episode : 559 \t\t Timestep : 56000 \t\t Average Reward : 1262.08\n"
     ]
    },
    {
     "name": "stderr",
     "output_type": "stream",
     "text": [
      "  1%|▉                                                                   | 581/39999 [02:26<2:48:56,  3.89it/s]"
     ]
    },
    {
     "name": "stdout",
     "output_type": "stream",
     "text": [
      "Episode : 579 \t\t Timestep : 58000 \t\t Average Reward : 1233.77\n"
     ]
    },
    {
     "name": "stderr",
     "output_type": "stream",
     "text": [
      "  2%|█                                                                   | 600/39999 [02:30<3:12:59,  3.40it/s]"
     ]
    },
    {
     "name": "stdout",
     "output_type": "stream",
     "text": [
      "Episode : 599 \t\t Timestep : 60000 \t\t Average Reward : 1289.91\n"
     ]
    },
    {
     "name": "stderr",
     "output_type": "stream",
     "text": [
      "  2%|█                                                                   | 621/39999 [02:35<2:38:10,  4.15it/s]"
     ]
    },
    {
     "name": "stdout",
     "output_type": "stream",
     "text": [
      "Episode : 619 \t\t Timestep : 62000 \t\t Average Reward : 1239.6\n"
     ]
    },
    {
     "name": "stderr",
     "output_type": "stream",
     "text": [
      "  2%|█                                                                   | 642/39999 [02:40<2:01:51,  5.38it/s]"
     ]
    },
    {
     "name": "stdout",
     "output_type": "stream",
     "text": [
      "Episode : 639 \t\t Timestep : 64000 \t\t Average Reward : 1235.59\n"
     ]
    },
    {
     "name": "stderr",
     "output_type": "stream",
     "text": [
      "  2%|█▏                                                                  | 662/39999 [02:45<2:14:05,  4.89it/s]"
     ]
    },
    {
     "name": "stdout",
     "output_type": "stream",
     "text": [
      "Episode : 659 \t\t Timestep : 66000 \t\t Average Reward : 1354.21\n"
     ]
    },
    {
     "name": "stderr",
     "output_type": "stream",
     "text": [
      "  2%|█▏                                                                  | 682/39999 [02:50<2:33:20,  4.27it/s]"
     ]
    },
    {
     "name": "stdout",
     "output_type": "stream",
     "text": [
      "Episode : 679 \t\t Timestep : 68000 \t\t Average Reward : 1369.69\n"
     ]
    },
    {
     "name": "stderr",
     "output_type": "stream",
     "text": [
      "  2%|█▏                                                                  | 701/39999 [02:54<2:40:19,  4.09it/s]"
     ]
    },
    {
     "name": "stdout",
     "output_type": "stream",
     "text": [
      "Episode : 699 \t\t Timestep : 70000 \t\t Average Reward : 1332.51\n"
     ]
    },
    {
     "name": "stderr",
     "output_type": "stream",
     "text": [
      "  2%|█▏                                                                  | 721/39999 [03:00<3:21:59,  3.24it/s]"
     ]
    },
    {
     "name": "stdout",
     "output_type": "stream",
     "text": [
      "Episode : 719 \t\t Timestep : 72000 \t\t Average Reward : 1423.12\n"
     ]
    },
    {
     "name": "stderr",
     "output_type": "stream",
     "text": [
      "  2%|█▎                                                                  | 742/39999 [03:04<2:11:24,  4.98it/s]"
     ]
    },
    {
     "name": "stdout",
     "output_type": "stream",
     "text": [
      "Episode : 739 \t\t Timestep : 74000 \t\t Average Reward : 1305.9\n"
     ]
    },
    {
     "name": "stderr",
     "output_type": "stream",
     "text": [
      "  2%|█▎                                                                  | 761/39999 [03:10<3:12:40,  3.39it/s]"
     ]
    },
    {
     "name": "stdout",
     "output_type": "stream",
     "text": [
      "Episode : 759 \t\t Timestep : 76000 \t\t Average Reward : 1330.34\n"
     ]
    },
    {
     "name": "stderr",
     "output_type": "stream",
     "text": [
      "  2%|█▎                                                                  | 782/39999 [03:15<2:19:26,  4.69it/s]"
     ]
    },
    {
     "name": "stdout",
     "output_type": "stream",
     "text": [
      "Episode : 779 \t\t Timestep : 78000 \t\t Average Reward : 1341.9\n"
     ]
    },
    {
     "name": "stderr",
     "output_type": "stream",
     "text": [
      "  2%|█▎                                                                  | 801/39999 [03:20<3:08:58,  3.46it/s]"
     ]
    },
    {
     "name": "stdout",
     "output_type": "stream",
     "text": [
      "Episode : 799 \t\t Timestep : 80000 \t\t Average Reward : 1391.9\n"
     ]
    },
    {
     "name": "stderr",
     "output_type": "stream",
     "text": [
      "  2%|█▍                                                                  | 822/39999 [03:25<2:27:39,  4.42it/s]"
     ]
    },
    {
     "name": "stdout",
     "output_type": "stream",
     "text": [
      "Episode : 819 \t\t Timestep : 82000 \t\t Average Reward : 1333.14\n"
     ]
    },
    {
     "name": "stderr",
     "output_type": "stream",
     "text": [
      "  2%|█▍                                                                  | 842/39999 [03:30<2:19:05,  4.69it/s]"
     ]
    },
    {
     "name": "stdout",
     "output_type": "stream",
     "text": [
      "Episode : 839 \t\t Timestep : 84000 \t\t Average Reward : 1405.84\n"
     ]
    },
    {
     "name": "stderr",
     "output_type": "stream",
     "text": [
      "  2%|█▍                                                                  | 862/39999 [03:35<2:06:26,  5.16it/s]"
     ]
    },
    {
     "name": "stdout",
     "output_type": "stream",
     "text": [
      "Episode : 859 \t\t Timestep : 86000 \t\t Average Reward : 1355.77\n"
     ]
    },
    {
     "name": "stderr",
     "output_type": "stream",
     "text": [
      "  2%|█▍                                                                  | 882/39999 [03:40<2:05:23,  5.20it/s]"
     ]
    },
    {
     "name": "stdout",
     "output_type": "stream",
     "text": [
      "Episode : 879 \t\t Timestep : 88000 \t\t Average Reward : 1332.38\n"
     ]
    },
    {
     "name": "stderr",
     "output_type": "stream",
     "text": [
      "  2%|█▌                                                                  | 902/39999 [03:45<2:13:25,  4.88it/s]"
     ]
    },
    {
     "name": "stdout",
     "output_type": "stream",
     "text": [
      "Episode : 899 \t\t Timestep : 90000 \t\t Average Reward : 1336.63\n"
     ]
    },
    {
     "name": "stderr",
     "output_type": "stream",
     "text": [
      "  2%|█▌                                                                  | 922/39999 [03:49<2:04:24,  5.24it/s]"
     ]
    },
    {
     "name": "stdout",
     "output_type": "stream",
     "text": [
      "Episode : 919 \t\t Timestep : 92000 \t\t Average Reward : 1326.64\n"
     ]
    },
    {
     "name": "stderr",
     "output_type": "stream",
     "text": [
      "  2%|█▌                                                                  | 942/39999 [03:55<2:31:03,  4.31it/s]"
     ]
    },
    {
     "name": "stdout",
     "output_type": "stream",
     "text": [
      "Episode : 939 \t\t Timestep : 94000 \t\t Average Reward : 1330.3\n"
     ]
    },
    {
     "name": "stderr",
     "output_type": "stream",
     "text": [
      "  2%|█▋                                                                  | 962/39999 [03:59<2:22:36,  4.56it/s]"
     ]
    },
    {
     "name": "stdout",
     "output_type": "stream",
     "text": [
      "Episode : 959 \t\t Timestep : 96000 \t\t Average Reward : 1369.45\n"
     ]
    },
    {
     "name": "stderr",
     "output_type": "stream",
     "text": [
      "  2%|█▋                                                                  | 981/39999 [04:04<2:06:46,  5.13it/s]"
     ]
    },
    {
     "name": "stdout",
     "output_type": "stream",
     "text": [
      "Episode : 979 \t\t Timestep : 98000 \t\t Average Reward : 1344.15\n"
     ]
    },
    {
     "name": "stderr",
     "output_type": "stream",
     "text": [
      "  3%|█▊                                                                 | 1082/39999 [04:29<2:24:53,  4.48it/s]"
     ]
    },
    {
     "name": "stdout",
     "output_type": "stream",
     "text": [
      "Episode : 1079 \t\t Timestep : 108000 \t\t Average Reward : 1264.52\n"
     ]
    },
    {
     "name": "stderr",
     "output_type": "stream",
     "text": [
      "  3%|█▊                                                                 | 1102/39999 [04:34<2:33:48,  4.21it/s]"
     ]
    },
    {
     "name": "stdout",
     "output_type": "stream",
     "text": [
      "Episode : 1099 \t\t Timestep : 110000 \t\t Average Reward : 1353.82\n"
     ]
    },
    {
     "name": "stderr",
     "output_type": "stream",
     "text": [
      "  3%|█▉                                                                 | 1122/39999 [04:40<2:11:57,  4.91it/s]"
     ]
    },
    {
     "name": "stdout",
     "output_type": "stream",
     "text": [
      "Episode : 1119 \t\t Timestep : 112000 \t\t Average Reward : 1341.57\n"
     ]
    },
    {
     "name": "stderr",
     "output_type": "stream",
     "text": [
      "  3%|█▉                                                                 | 1142/39999 [04:45<2:05:21,  5.17it/s]"
     ]
    },
    {
     "name": "stdout",
     "output_type": "stream",
     "text": [
      "Episode : 1139 \t\t Timestep : 114000 \t\t Average Reward : 1315.67\n"
     ]
    },
    {
     "name": "stderr",
     "output_type": "stream",
     "text": [
      "  3%|█▉                                                                 | 1162/39999 [04:49<2:05:24,  5.16it/s]"
     ]
    },
    {
     "name": "stdout",
     "output_type": "stream",
     "text": [
      "Episode : 1159 \t\t Timestep : 116000 \t\t Average Reward : 1332.96\n"
     ]
    },
    {
     "name": "stderr",
     "output_type": "stream",
     "text": [
      "  3%|█▉                                                                 | 1181/39999 [04:54<2:40:34,  4.03it/s]"
     ]
    },
    {
     "name": "stdout",
     "output_type": "stream",
     "text": [
      "Episode : 1179 \t\t Timestep : 118000 \t\t Average Reward : 1383.13\n"
     ]
    },
    {
     "name": "stderr",
     "output_type": "stream",
     "text": [
      "  3%|██                                                                 | 1202/39999 [04:58<2:14:55,  4.79it/s]"
     ]
    },
    {
     "name": "stdout",
     "output_type": "stream",
     "text": [
      "Episode : 1199 \t\t Timestep : 120000 \t\t Average Reward : 1331.24\n"
     ]
    },
    {
     "name": "stderr",
     "output_type": "stream",
     "text": [
      "  3%|██                                                                 | 1221/39999 [05:03<2:58:26,  3.62it/s]"
     ]
    },
    {
     "name": "stdout",
     "output_type": "stream",
     "text": [
      "Episode : 1219 \t\t Timestep : 122000 \t\t Average Reward : 1248.03\n"
     ]
    },
    {
     "name": "stderr",
     "output_type": "stream",
     "text": [
      "  3%|██                                                                 | 1241/39999 [05:09<3:01:41,  3.56it/s]"
     ]
    },
    {
     "name": "stdout",
     "output_type": "stream",
     "text": [
      "Episode : 1239 \t\t Timestep : 124000 \t\t Average Reward : 1299.37\n"
     ]
    },
    {
     "name": "stderr",
     "output_type": "stream",
     "text": [
      "  3%|██                                                                 | 1262/39999 [05:14<2:34:23,  4.18it/s]"
     ]
    },
    {
     "name": "stdout",
     "output_type": "stream",
     "text": [
      "Episode : 1259 \t\t Timestep : 126000 \t\t Average Reward : 1348.72\n"
     ]
    },
    {
     "name": "stderr",
     "output_type": "stream",
     "text": [
      "  3%|██▏                                                                | 1282/39999 [05:18<2:06:05,  5.12it/s]"
     ]
    },
    {
     "name": "stdout",
     "output_type": "stream",
     "text": [
      "Episode : 1279 \t\t Timestep : 128000 \t\t Average Reward : 1341.45\n"
     ]
    },
    {
     "name": "stderr",
     "output_type": "stream",
     "text": [
      "  3%|██▏                                                                | 1301/39999 [05:23<2:36:17,  4.13it/s]"
     ]
    },
    {
     "name": "stdout",
     "output_type": "stream",
     "text": [
      "Episode : 1299 \t\t Timestep : 130000 \t\t Average Reward : 1282.68\n"
     ]
    },
    {
     "name": "stderr",
     "output_type": "stream",
     "text": [
      "  3%|██▏                                                                | 1322/39999 [05:28<2:30:47,  4.27it/s]"
     ]
    },
    {
     "name": "stdout",
     "output_type": "stream",
     "text": [
      "Episode : 1319 \t\t Timestep : 132000 \t\t Average Reward : 1325.56\n"
     ]
    },
    {
     "name": "stderr",
     "output_type": "stream",
     "text": [
      "  3%|██▏                                                                | 1341/39999 [05:34<3:23:08,  3.17it/s]"
     ]
    },
    {
     "name": "stdout",
     "output_type": "stream",
     "text": [
      "Episode : 1339 \t\t Timestep : 134000 \t\t Average Reward : 1288.15\n"
     ]
    },
    {
     "name": "stderr",
     "output_type": "stream",
     "text": [
      "  3%|██▎                                                                | 1361/39999 [05:39<2:47:28,  3.84it/s]"
     ]
    },
    {
     "name": "stdout",
     "output_type": "stream",
     "text": [
      "Episode : 1359 \t\t Timestep : 136000 \t\t Average Reward : 1348.31\n"
     ]
    },
    {
     "name": "stderr",
     "output_type": "stream",
     "text": [
      "  3%|██▎                                                                | 1382/39999 [05:44<2:36:43,  4.11it/s]"
     ]
    },
    {
     "name": "stdout",
     "output_type": "stream",
     "text": [
      "Episode : 1379 \t\t Timestep : 138000 \t\t Average Reward : 1314.96\n"
     ]
    },
    {
     "name": "stderr",
     "output_type": "stream",
     "text": [
      "  4%|██▎                                                                | 1401/39999 [05:49<2:31:12,  4.25it/s]"
     ]
    },
    {
     "name": "stdout",
     "output_type": "stream",
     "text": [
      "Episode : 1399 \t\t Timestep : 140000 \t\t Average Reward : 1300.04\n"
     ]
    },
    {
     "name": "stderr",
     "output_type": "stream",
     "text": [
      "  4%|██▍                                                                | 1422/39999 [05:54<2:28:04,  4.34it/s]"
     ]
    },
    {
     "name": "stdout",
     "output_type": "stream",
     "text": [
      "Episode : 1419 \t\t Timestep : 142000 \t\t Average Reward : 1166.92\n"
     ]
    },
    {
     "name": "stderr",
     "output_type": "stream",
     "text": [
      "  4%|██▍                                                                | 1441/39999 [05:59<2:31:01,  4.26it/s]"
     ]
    },
    {
     "name": "stdout",
     "output_type": "stream",
     "text": [
      "Episode : 1439 \t\t Timestep : 144000 \t\t Average Reward : 1250.55\n"
     ]
    },
    {
     "name": "stderr",
     "output_type": "stream",
     "text": [
      "  4%|██▍                                                                | 1462/39999 [06:04<2:22:15,  4.51it/s]"
     ]
    },
    {
     "name": "stdout",
     "output_type": "stream",
     "text": [
      "Episode : 1459 \t\t Timestep : 146000 \t\t Average Reward : 1296.95\n"
     ]
    },
    {
     "name": "stderr",
     "output_type": "stream",
     "text": [
      "  4%|██▍                                                                | 1481/39999 [06:09<2:37:47,  4.07it/s]"
     ]
    },
    {
     "name": "stdout",
     "output_type": "stream",
     "text": [
      "Episode : 1479 \t\t Timestep : 148000 \t\t Average Reward : 1239.02\n"
     ]
    },
    {
     "name": "stderr",
     "output_type": "stream",
     "text": [
      "  4%|██▌                                                                | 1502/39999 [06:14<2:30:52,  4.25it/s]"
     ]
    },
    {
     "name": "stdout",
     "output_type": "stream",
     "text": [
      "Episode : 1499 \t\t Timestep : 150000 \t\t Average Reward : 1314.52\n"
     ]
    },
    {
     "name": "stderr",
     "output_type": "stream",
     "text": [
      "  4%|██▌                                                                | 1521/39999 [06:19<2:44:25,  3.90it/s]"
     ]
    },
    {
     "name": "stdout",
     "output_type": "stream",
     "text": [
      "Episode : 1519 \t\t Timestep : 152000 \t\t Average Reward : 1332.64\n"
     ]
    },
    {
     "name": "stderr",
     "output_type": "stream",
     "text": [
      "  4%|██▌                                                                | 1542/39999 [06:24<2:35:33,  4.12it/s]"
     ]
    },
    {
     "name": "stdout",
     "output_type": "stream",
     "text": [
      "Episode : 1539 \t\t Timestep : 154000 \t\t Average Reward : 1238.19\n"
     ]
    },
    {
     "name": "stderr",
     "output_type": "stream",
     "text": [
      "  4%|██▌                                                                | 1562/39999 [06:29<2:14:41,  4.76it/s]"
     ]
    },
    {
     "name": "stdout",
     "output_type": "stream",
     "text": [
      "Episode : 1559 \t\t Timestep : 156000 \t\t Average Reward : 1283.04\n"
     ]
    },
    {
     "name": "stderr",
     "output_type": "stream",
     "text": [
      "  4%|██▋                                                                | 1582/39999 [06:34<2:13:52,  4.78it/s]"
     ]
    },
    {
     "name": "stdout",
     "output_type": "stream",
     "text": [
      "Episode : 1579 \t\t Timestep : 158000 \t\t Average Reward : 1209.83\n"
     ]
    },
    {
     "name": "stderr",
     "output_type": "stream",
     "text": [
      "  4%|██▋                                                                | 1602/39999 [06:39<2:15:07,  4.74it/s]"
     ]
    },
    {
     "name": "stdout",
     "output_type": "stream",
     "text": [
      "Episode : 1599 \t\t Timestep : 160000 \t\t Average Reward : 1330.42\n"
     ]
    },
    {
     "name": "stderr",
     "output_type": "stream",
     "text": [
      "  4%|██▋                                                                | 1622/39999 [06:44<2:17:08,  4.66it/s]"
     ]
    },
    {
     "name": "stdout",
     "output_type": "stream",
     "text": [
      "Episode : 1619 \t\t Timestep : 162000 \t\t Average Reward : 1340.43\n"
     ]
    },
    {
     "name": "stderr",
     "output_type": "stream",
     "text": [
      "  4%|██▊                                                                | 1642/39999 [06:49<1:56:37,  5.48it/s]"
     ]
    },
    {
     "name": "stdout",
     "output_type": "stream",
     "text": [
      "Episode : 1639 \t\t Timestep : 164000 \t\t Average Reward : 1381.47\n"
     ]
    },
    {
     "name": "stderr",
     "output_type": "stream",
     "text": [
      "  4%|██▊                                                                | 1663/39999 [06:54<2:04:08,  5.15it/s]"
     ]
    },
    {
     "name": "stdout",
     "output_type": "stream",
     "text": [
      "Episode : 1659 \t\t Timestep : 166000 \t\t Average Reward : 1337.12\n"
     ]
    },
    {
     "name": "stderr",
     "output_type": "stream",
     "text": [
      "  4%|██▊                                                                | 1682/39999 [06:58<2:13:29,  4.78it/s]"
     ]
    },
    {
     "name": "stdout",
     "output_type": "stream",
     "text": [
      "Episode : 1679 \t\t Timestep : 168000 \t\t Average Reward : 1329.61\n"
     ]
    },
    {
     "name": "stderr",
     "output_type": "stream",
     "text": [
      "  4%|██▊                                                                | 1702/39999 [07:03<2:24:35,  4.41it/s]"
     ]
    },
    {
     "name": "stdout",
     "output_type": "stream",
     "text": [
      "Episode : 1699 \t\t Timestep : 170000 \t\t Average Reward : 1345.64\n"
     ]
    },
    {
     "name": "stderr",
     "output_type": "stream",
     "text": [
      "  4%|██▉                                                                | 1721/39999 [07:08<2:34:54,  4.12it/s]"
     ]
    },
    {
     "name": "stdout",
     "output_type": "stream",
     "text": [
      "Episode : 1719 \t\t Timestep : 172000 \t\t Average Reward : 1339.18\n"
     ]
    },
    {
     "name": "stderr",
     "output_type": "stream",
     "text": [
      "  4%|██▉                                                                | 1742/39999 [07:13<2:15:43,  4.70it/s]"
     ]
    },
    {
     "name": "stdout",
     "output_type": "stream",
     "text": [
      "Episode : 1739 \t\t Timestep : 174000 \t\t Average Reward : 1350.54\n"
     ]
    },
    {
     "name": "stderr",
     "output_type": "stream",
     "text": [
      "  4%|██▉                                                                | 1762/39999 [07:18<2:16:20,  4.67it/s]"
     ]
    },
    {
     "name": "stdout",
     "output_type": "stream",
     "text": [
      "Episode : 1759 \t\t Timestep : 176000 \t\t Average Reward : 1301.7\n"
     ]
    },
    {
     "name": "stderr",
     "output_type": "stream",
     "text": [
      "  4%|██▉                                                                | 1781/39999 [07:22<2:34:48,  4.11it/s]"
     ]
    },
    {
     "name": "stdout",
     "output_type": "stream",
     "text": [
      "Episode : 1779 \t\t Timestep : 178000 \t\t Average Reward : 1221.71\n"
     ]
    },
    {
     "name": "stderr",
     "output_type": "stream",
     "text": [
      "  5%|███                                                                | 1801/39999 [07:27<2:45:51,  3.84it/s]"
     ]
    },
    {
     "name": "stdout",
     "output_type": "stream",
     "text": [
      "Episode : 1799 \t\t Timestep : 180000 \t\t Average Reward : 1264.48\n"
     ]
    },
    {
     "name": "stderr",
     "output_type": "stream",
     "text": [
      "  5%|███                                                                | 1822/39999 [07:33<2:21:50,  4.49it/s]"
     ]
    },
    {
     "name": "stdout",
     "output_type": "stream",
     "text": [
      "Episode : 1819 \t\t Timestep : 182000 \t\t Average Reward : 1306.77\n"
     ]
    },
    {
     "name": "stderr",
     "output_type": "stream",
     "text": [
      "  5%|███                                                                | 1841/39999 [07:37<2:28:31,  4.28it/s]"
     ]
    },
    {
     "name": "stdout",
     "output_type": "stream",
     "text": [
      "Episode : 1839 \t\t Timestep : 184000 \t\t Average Reward : 1309.1\n"
     ]
    },
    {
     "name": "stderr",
     "output_type": "stream",
     "text": [
      "  5%|███                                                                | 1861/39999 [07:42<2:28:21,  4.28it/s]"
     ]
    },
    {
     "name": "stdout",
     "output_type": "stream",
     "text": [
      "Episode : 1859 \t\t Timestep : 186000 \t\t Average Reward : 1329.02\n"
     ]
    },
    {
     "name": "stderr",
     "output_type": "stream",
     "text": [
      "  5%|███▏                                                               | 1882/39999 [07:46<1:49:35,  5.80it/s]"
     ]
    },
    {
     "name": "stdout",
     "output_type": "stream",
     "text": [
      "Episode : 1879 \t\t Timestep : 188000 \t\t Average Reward : 1321.31\n"
     ]
    },
    {
     "name": "stderr",
     "output_type": "stream",
     "text": [
      "  5%|███▏                                                               | 1902/39999 [07:51<2:08:59,  4.92it/s]"
     ]
    },
    {
     "name": "stdout",
     "output_type": "stream",
     "text": [
      "Episode : 1899 \t\t Timestep : 190000 \t\t Average Reward : 1285.95\n"
     ]
    },
    {
     "name": "stderr",
     "output_type": "stream",
     "text": [
      "  5%|███▏                                                               | 1922/39999 [07:56<2:32:23,  4.16it/s]"
     ]
    },
    {
     "name": "stdout",
     "output_type": "stream",
     "text": [
      "Episode : 1919 \t\t Timestep : 192000 \t\t Average Reward : 1265.42\n"
     ]
    },
    {
     "name": "stderr",
     "output_type": "stream",
     "text": [
      "  5%|███▎                                                               | 1942/39999 [08:00<2:01:34,  5.22it/s]"
     ]
    },
    {
     "name": "stdout",
     "output_type": "stream",
     "text": [
      "Episode : 1939 \t\t Timestep : 194000 \t\t Average Reward : 1213.74\n"
     ]
    },
    {
     "name": "stderr",
     "output_type": "stream",
     "text": [
      "  5%|███▎                                                               | 1962/39999 [08:05<2:24:17,  4.39it/s]"
     ]
    },
    {
     "name": "stdout",
     "output_type": "stream",
     "text": [
      "Episode : 1959 \t\t Timestep : 196000 \t\t Average Reward : 1349.46\n"
     ]
    },
    {
     "name": "stderr",
     "output_type": "stream",
     "text": [
      "  5%|███▎                                                               | 1981/39999 [08:10<2:35:55,  4.06it/s]"
     ]
    },
    {
     "name": "stdout",
     "output_type": "stream",
     "text": [
      "Episode : 1979 \t\t Timestep : 198000 \t\t Average Reward : 1347.92\n"
     ]
    },
    {
     "name": "stderr",
     "output_type": "stream",
     "text": [
      "  5%|███▎                                                               | 2001/39999 [08:16<2:55:55,  3.60it/s]"
     ]
    },
    {
     "name": "stdout",
     "output_type": "stream",
     "text": [
      "Episode : 1999 \t\t Timestep : 200000 \t\t Average Reward : 1308.92\n",
      "--------------------------------------------------------------------------------------------\n",
      "saving model at : PPO_preTrainedPPO_Grid World_0_0.pth\n",
      "model saved\n",
      "Elapsed Time  :  0:08:17\n",
      "--------------------------------------------------------------------------------------------\n"
     ]
    },
    {
     "name": "stderr",
     "output_type": "stream",
     "text": [
      "  5%|███▍                                                               | 2022/39999 [08:20<2:14:41,  4.70it/s]"
     ]
    },
    {
     "name": "stdout",
     "output_type": "stream",
     "text": [
      "Episode : 2019 \t\t Timestep : 202000 \t\t Average Reward : 1298.71\n"
     ]
    },
    {
     "name": "stderr",
     "output_type": "stream",
     "text": [
      "  5%|███▍                                                               | 2042/39999 [08:25<2:01:53,  5.19it/s]"
     ]
    },
    {
     "name": "stdout",
     "output_type": "stream",
     "text": [
      "Episode : 2039 \t\t Timestep : 204000 \t\t Average Reward : 1298.2\n"
     ]
    },
    {
     "name": "stderr",
     "output_type": "stream",
     "text": [
      "  5%|███▍                                                               | 2061/39999 [08:31<2:42:07,  3.90it/s]"
     ]
    },
    {
     "name": "stdout",
     "output_type": "stream",
     "text": [
      "Episode : 2059 \t\t Timestep : 206000 \t\t Average Reward : 1327.31\n"
     ]
    },
    {
     "name": "stderr",
     "output_type": "stream",
     "text": [
      "  5%|███▍                                                               | 2081/39999 [08:36<3:06:38,  3.39it/s]"
     ]
    },
    {
     "name": "stdout",
     "output_type": "stream",
     "text": [
      "Episode : 2079 \t\t Timestep : 208000 \t\t Average Reward : 1347.51\n"
     ]
    },
    {
     "name": "stderr",
     "output_type": "stream",
     "text": [
      "  5%|███▌                                                               | 2101/39999 [08:40<2:24:11,  4.38it/s]"
     ]
    },
    {
     "name": "stdout",
     "output_type": "stream",
     "text": [
      "Episode : 2099 \t\t Timestep : 210000 \t\t Average Reward : 1349.79\n"
     ]
    },
    {
     "name": "stderr",
     "output_type": "stream",
     "text": [
      "  5%|███▌                                                               | 2122/39999 [08:46<2:29:36,  4.22it/s]"
     ]
    },
    {
     "name": "stdout",
     "output_type": "stream",
     "text": [
      "Episode : 2119 \t\t Timestep : 212000 \t\t Average Reward : 1344.1\n"
     ]
    },
    {
     "name": "stderr",
     "output_type": "stream",
     "text": [
      "  5%|███▌                                                               | 2142/39999 [08:50<2:17:09,  4.60it/s]"
     ]
    },
    {
     "name": "stdout",
     "output_type": "stream",
     "text": [
      "Episode : 2139 \t\t Timestep : 214000 \t\t Average Reward : 1330.16\n"
     ]
    },
    {
     "name": "stderr",
     "output_type": "stream",
     "text": [
      "  5%|███▌                                                               | 2162/39999 [08:55<2:13:02,  4.74it/s]"
     ]
    },
    {
     "name": "stdout",
     "output_type": "stream",
     "text": [
      "Episode : 2159 \t\t Timestep : 216000 \t\t Average Reward : 1349.67\n"
     ]
    },
    {
     "name": "stderr",
     "output_type": "stream",
     "text": [
      "  5%|███▋                                                               | 2181/39999 [09:00<2:41:45,  3.90it/s]"
     ]
    },
    {
     "name": "stdout",
     "output_type": "stream",
     "text": [
      "Episode : 2179 \t\t Timestep : 218000 \t\t Average Reward : 1343.71\n"
     ]
    },
    {
     "name": "stderr",
     "output_type": "stream",
     "text": [
      "  6%|███▋                                                               | 2201/39999 [09:05<2:40:05,  3.94it/s]"
     ]
    },
    {
     "name": "stdout",
     "output_type": "stream",
     "text": [
      "Episode : 2199 \t\t Timestep : 220000 \t\t Average Reward : 1309.81\n"
     ]
    },
    {
     "name": "stderr",
     "output_type": "stream",
     "text": [
      "  6%|███▋                                                               | 2221/39999 [09:10<2:41:05,  3.91it/s]"
     ]
    },
    {
     "name": "stdout",
     "output_type": "stream",
     "text": [
      "Episode : 2219 \t\t Timestep : 222000 \t\t Average Reward : 1394.06\n"
     ]
    },
    {
     "name": "stderr",
     "output_type": "stream",
     "text": [
      "  6%|███▊                                                               | 2242/39999 [09:14<1:59:09,  5.28it/s]"
     ]
    },
    {
     "name": "stdout",
     "output_type": "stream",
     "text": [
      "Episode : 2239 \t\t Timestep : 224000 \t\t Average Reward : 1395.31\n"
     ]
    },
    {
     "name": "stderr",
     "output_type": "stream",
     "text": [
      "  6%|███▊                                                               | 2261/39999 [09:19<2:50:58,  3.68it/s]"
     ]
    },
    {
     "name": "stdout",
     "output_type": "stream",
     "text": [
      "Episode : 2259 \t\t Timestep : 226000 \t\t Average Reward : 1327.84\n"
     ]
    },
    {
     "name": "stderr",
     "output_type": "stream",
     "text": [
      "  6%|███▊                                                               | 2281/39999 [09:24<2:25:10,  4.33it/s]"
     ]
    },
    {
     "name": "stdout",
     "output_type": "stream",
     "text": [
      "Episode : 2279 \t\t Timestep : 228000 \t\t Average Reward : 1235.83\n"
     ]
    },
    {
     "name": "stderr",
     "output_type": "stream",
     "text": [
      "  6%|███▊                                                               | 2302/39999 [09:29<2:20:40,  4.47it/s]"
     ]
    },
    {
     "name": "stdout",
     "output_type": "stream",
     "text": [
      "Episode : 2299 \t\t Timestep : 230000 \t\t Average Reward : 1304.35\n"
     ]
    },
    {
     "name": "stderr",
     "output_type": "stream",
     "text": [
      "  6%|███▉                                                               | 2322/39999 [09:34<2:04:29,  5.04it/s]"
     ]
    },
    {
     "name": "stdout",
     "output_type": "stream",
     "text": [
      "Episode : 2319 \t\t Timestep : 232000 \t\t Average Reward : 1380.67\n"
     ]
    },
    {
     "name": "stderr",
     "output_type": "stream",
     "text": [
      "  6%|███▉                                                               | 2342/39999 [09:39<2:07:08,  4.94it/s]"
     ]
    },
    {
     "name": "stdout",
     "output_type": "stream",
     "text": [
      "Episode : 2339 \t\t Timestep : 234000 \t\t Average Reward : 1327.76\n"
     ]
    },
    {
     "name": "stderr",
     "output_type": "stream",
     "text": [
      "  6%|███▉                                                               | 2362/39999 [09:43<1:54:29,  5.48it/s]"
     ]
    },
    {
     "name": "stdout",
     "output_type": "stream",
     "text": [
      "Episode : 2359 \t\t Timestep : 236000 \t\t Average Reward : 1264.74\n"
     ]
    },
    {
     "name": "stderr",
     "output_type": "stream",
     "text": [
      "  6%|███▉                                                               | 2380/39999 [09:48<2:34:25,  4.06it/s]"
     ]
    },
    {
     "name": "stdout",
     "output_type": "stream",
     "text": [
      "Episode : 2379 \t\t Timestep : 238000 \t\t Average Reward : 1286.86\n"
     ]
    },
    {
     "name": "stderr",
     "output_type": "stream",
     "text": [
      "  6%|████                                                               | 2402/39999 [09:53<2:12:07,  4.74it/s]"
     ]
    },
    {
     "name": "stdout",
     "output_type": "stream",
     "text": [
      "Episode : 2399 \t\t Timestep : 240000 \t\t Average Reward : 1276.93\n"
     ]
    },
    {
     "name": "stderr",
     "output_type": "stream",
     "text": [
      "  6%|████                                                               | 2422/39999 [09:58<2:01:44,  5.14it/s]"
     ]
    },
    {
     "name": "stdout",
     "output_type": "stream",
     "text": [
      "Episode : 2419 \t\t Timestep : 242000 \t\t Average Reward : 1325.29\n"
     ]
    },
    {
     "name": "stderr",
     "output_type": "stream",
     "text": [
      "  6%|████                                                               | 2442/39999 [10:03<2:03:58,  5.05it/s]"
     ]
    },
    {
     "name": "stdout",
     "output_type": "stream",
     "text": [
      "Episode : 2439 \t\t Timestep : 244000 \t\t Average Reward : 1348.24\n"
     ]
    },
    {
     "name": "stderr",
     "output_type": "stream",
     "text": [
      "  6%|████                                                               | 2461/39999 [10:08<2:43:33,  3.83it/s]"
     ]
    },
    {
     "name": "stdout",
     "output_type": "stream",
     "text": [
      "Episode : 2459 \t\t Timestep : 246000 \t\t Average Reward : 1339.87\n"
     ]
    },
    {
     "name": "stderr",
     "output_type": "stream",
     "text": [
      "  6%|████▏                                                              | 2482/39999 [10:13<1:50:12,  5.67it/s]"
     ]
    },
    {
     "name": "stdout",
     "output_type": "stream",
     "text": [
      "Episode : 2479 \t\t Timestep : 248000 \t\t Average Reward : 1401.23\n"
     ]
    },
    {
     "name": "stderr",
     "output_type": "stream",
     "text": [
      "  6%|████▏                                                              | 2500/39999 [10:18<3:22:52,  3.08it/s]"
     ]
    },
    {
     "name": "stdout",
     "output_type": "stream",
     "text": [
      "Episode : 2499 \t\t Timestep : 250000 \t\t Average Reward : 1374.39\n"
     ]
    },
    {
     "name": "stderr",
     "output_type": "stream",
     "text": [
      "  6%|████▏                                                              | 2522/39999 [10:23<2:18:37,  4.51it/s]"
     ]
    },
    {
     "name": "stdout",
     "output_type": "stream",
     "text": [
      "Episode : 2519 \t\t Timestep : 252000 \t\t Average Reward : 1340.24\n"
     ]
    },
    {
     "name": "stderr",
     "output_type": "stream",
     "text": [
      "  6%|████▎                                                              | 2542/39999 [10:28<2:27:55,  4.22it/s]"
     ]
    },
    {
     "name": "stdout",
     "output_type": "stream",
     "text": [
      "Episode : 2539 \t\t Timestep : 254000 \t\t Average Reward : 1257.01\n"
     ]
    },
    {
     "name": "stderr",
     "output_type": "stream",
     "text": [
      "  6%|████▎                                                              | 2561/39999 [10:33<2:50:08,  3.67it/s]"
     ]
    },
    {
     "name": "stdout",
     "output_type": "stream",
     "text": [
      "Episode : 2559 \t\t Timestep : 256000 \t\t Average Reward : 1286.26\n"
     ]
    },
    {
     "name": "stderr",
     "output_type": "stream",
     "text": [
      "  6%|████▎                                                              | 2581/39999 [10:38<2:54:28,  3.57it/s]"
     ]
    },
    {
     "name": "stdout",
     "output_type": "stream",
     "text": [
      "Episode : 2579 \t\t Timestep : 258000 \t\t Average Reward : 1330.26\n"
     ]
    },
    {
     "name": "stderr",
     "output_type": "stream",
     "text": [
      "  7%|████▎                                                              | 2602/39999 [10:43<2:15:02,  4.62it/s]"
     ]
    },
    {
     "name": "stdout",
     "output_type": "stream",
     "text": [
      "Episode : 2599 \t\t Timestep : 260000 \t\t Average Reward : 1360.36\n"
     ]
    },
    {
     "name": "stderr",
     "output_type": "stream",
     "text": [
      "  7%|████▍                                                              | 2622/39999 [10:48<2:12:18,  4.71it/s]"
     ]
    },
    {
     "name": "stdout",
     "output_type": "stream",
     "text": [
      "Episode : 2619 \t\t Timestep : 262000 \t\t Average Reward : 1336.69\n"
     ]
    },
    {
     "name": "stderr",
     "output_type": "stream",
     "text": [
      "  7%|████▍                                                              | 2642/39999 [10:53<2:11:58,  4.72it/s]"
     ]
    },
    {
     "name": "stdout",
     "output_type": "stream",
     "text": [
      "Episode : 2639 \t\t Timestep : 264000 \t\t Average Reward : 1384.26\n"
     ]
    },
    {
     "name": "stderr",
     "output_type": "stream",
     "text": [
      "  7%|████▍                                                              | 2661/39999 [10:58<2:41:38,  3.85it/s]"
     ]
    },
    {
     "name": "stdout",
     "output_type": "stream",
     "text": [
      "Episode : 2659 \t\t Timestep : 266000 \t\t Average Reward : 1306.54\n"
     ]
    },
    {
     "name": "stderr",
     "output_type": "stream",
     "text": [
      "  7%|████▍                                                              | 2682/39999 [11:03<2:40:40,  3.87it/s]"
     ]
    },
    {
     "name": "stdout",
     "output_type": "stream",
     "text": [
      "Episode : 2679 \t\t Timestep : 268000 \t\t Average Reward : 1300.08\n"
     ]
    },
    {
     "name": "stderr",
     "output_type": "stream",
     "text": [
      "  7%|████▌                                                              | 2701/39999 [11:08<2:39:52,  3.89it/s]"
     ]
    },
    {
     "name": "stdout",
     "output_type": "stream",
     "text": [
      "Episode : 2699 \t\t Timestep : 270000 \t\t Average Reward : 1219.92\n"
     ]
    },
    {
     "name": "stderr",
     "output_type": "stream",
     "text": [
      "  7%|████▌                                                              | 2722/39999 [11:13<2:19:40,  4.45it/s]"
     ]
    },
    {
     "name": "stdout",
     "output_type": "stream",
     "text": [
      "Episode : 2719 \t\t Timestep : 272000 \t\t Average Reward : 1250.17\n"
     ]
    },
    {
     "name": "stderr",
     "output_type": "stream",
     "text": [
      "  7%|████▌                                                              | 2742/39999 [11:19<2:35:04,  4.00it/s]"
     ]
    },
    {
     "name": "stdout",
     "output_type": "stream",
     "text": [
      "Episode : 2739 \t\t Timestep : 274000 \t\t Average Reward : 1213.42\n"
     ]
    },
    {
     "name": "stderr",
     "output_type": "stream",
     "text": [
      "  7%|████▋                                                              | 2762/39999 [11:24<1:34:19,  6.58it/s]"
     ]
    },
    {
     "name": "stdout",
     "output_type": "stream",
     "text": [
      "Episode : 2759 \t\t Timestep : 276000 \t\t Average Reward : 1235.7\n"
     ]
    },
    {
     "name": "stderr",
     "output_type": "stream",
     "text": [
      "  7%|████▋                                                              | 2782/39999 [11:27<1:23:42,  7.41it/s]"
     ]
    },
    {
     "name": "stdout",
     "output_type": "stream",
     "text": [
      "Episode : 2779 \t\t Timestep : 278000 \t\t Average Reward : 1261.37\n"
     ]
    },
    {
     "name": "stderr",
     "output_type": "stream",
     "text": [
      "  7%|████▋                                                              | 2802/39999 [11:30<1:25:04,  7.29it/s]"
     ]
    },
    {
     "name": "stdout",
     "output_type": "stream",
     "text": [
      "Episode : 2799 \t\t Timestep : 280000 \t\t Average Reward : 1346.84\n"
     ]
    },
    {
     "name": "stderr",
     "output_type": "stream",
     "text": [
      "  7%|████▋                                                              | 2821/39999 [11:33<1:47:34,  5.76it/s]"
     ]
    },
    {
     "name": "stdout",
     "output_type": "stream",
     "text": [
      "Episode : 2819 \t\t Timestep : 282000 \t\t Average Reward : 1361.4\n"
     ]
    },
    {
     "name": "stderr",
     "output_type": "stream",
     "text": [
      "  7%|████▊                                                              | 2841/39999 [11:35<1:26:06,  7.19it/s]"
     ]
    },
    {
     "name": "stdout",
     "output_type": "stream",
     "text": [
      "Episode : 2839 \t\t Timestep : 284000 \t\t Average Reward : 1342.32\n"
     ]
    },
    {
     "name": "stderr",
     "output_type": "stream",
     "text": [
      "  7%|████▊                                                              | 2862/39999 [11:39<1:34:27,  6.55it/s]"
     ]
    },
    {
     "name": "stdout",
     "output_type": "stream",
     "text": [
      "Episode : 2859 \t\t Timestep : 286000 \t\t Average Reward : 1342.44\n"
     ]
    },
    {
     "name": "stderr",
     "output_type": "stream",
     "text": [
      "  7%|████▊                                                              | 2882/39999 [11:42<1:26:22,  7.16it/s]"
     ]
    },
    {
     "name": "stdout",
     "output_type": "stream",
     "text": [
      "Episode : 2879 \t\t Timestep : 288000 \t\t Average Reward : 1386.54\n"
     ]
    },
    {
     "name": "stderr",
     "output_type": "stream",
     "text": [
      "  7%|████▊                                                              | 2902/39999 [11:45<1:39:44,  6.20it/s]"
     ]
    },
    {
     "name": "stdout",
     "output_type": "stream",
     "text": [
      "Episode : 2899 \t\t Timestep : 290000 \t\t Average Reward : 1271.74\n"
     ]
    },
    {
     "name": "stderr",
     "output_type": "stream",
     "text": [
      "  7%|████▉                                                              | 2923/39999 [11:49<1:25:23,  7.24it/s]"
     ]
    },
    {
     "name": "stdout",
     "output_type": "stream",
     "text": [
      "Episode : 2919 \t\t Timestep : 292000 \t\t Average Reward : 1361.04\n"
     ]
    },
    {
     "name": "stderr",
     "output_type": "stream",
     "text": [
      "  7%|████▉                                                              | 2941/39999 [11:52<1:34:20,  6.55it/s]"
     ]
    },
    {
     "name": "stdout",
     "output_type": "stream",
     "text": [
      "Episode : 2939 \t\t Timestep : 294000 \t\t Average Reward : 1315.16\n"
     ]
    },
    {
     "name": "stderr",
     "output_type": "stream",
     "text": [
      "  7%|████▉                                                              | 2962/39999 [11:55<1:41:28,  6.08it/s]"
     ]
    },
    {
     "name": "stdout",
     "output_type": "stream",
     "text": [
      "Episode : 2959 \t\t Timestep : 296000 \t\t Average Reward : 1322.75\n"
     ]
    },
    {
     "name": "stderr",
     "output_type": "stream",
     "text": [
      "  7%|████▉                                                              | 2982/39999 [11:59<1:42:00,  6.05it/s]"
     ]
    },
    {
     "name": "stdout",
     "output_type": "stream",
     "text": [
      "Episode : 2979 \t\t Timestep : 298000 \t\t Average Reward : 1337.32\n"
     ]
    },
    {
     "name": "stderr",
     "output_type": "stream",
     "text": [
      "  8%|█████                                                              | 3003/39999 [12:02<1:11:07,  8.67it/s]"
     ]
    },
    {
     "name": "stdout",
     "output_type": "stream",
     "text": [
      "Episode : 2999 \t\t Timestep : 300000 \t\t Average Reward : 1292.23\n",
      "--------------------------------------------------------------------------------------------\n",
      "saving model at : PPO_preTrainedPPO_Grid World_0_0.pth\n",
      "model saved\n",
      "Elapsed Time  :  0:12:03\n",
      "--------------------------------------------------------------------------------------------\n"
     ]
    },
    {
     "name": "stderr",
     "output_type": "stream",
     "text": [
      "  8%|█████                                                              | 3023/39999 [12:05<1:10:18,  8.76it/s]"
     ]
    },
    {
     "name": "stdout",
     "output_type": "stream",
     "text": [
      "Episode : 3019 \t\t Timestep : 302000 \t\t Average Reward : 1273.72\n"
     ]
    },
    {
     "name": "stderr",
     "output_type": "stream",
     "text": [
      "  8%|█████                                                              | 3041/39999 [12:08<1:37:07,  6.34it/s]"
     ]
    },
    {
     "name": "stdout",
     "output_type": "stream",
     "text": [
      "Episode : 3039 \t\t Timestep : 304000 \t\t Average Reward : 1217.26\n"
     ]
    },
    {
     "name": "stderr",
     "output_type": "stream",
     "text": [
      "  8%|█████▏                                                             | 3062/39999 [12:12<1:51:52,  5.50it/s]"
     ]
    },
    {
     "name": "stdout",
     "output_type": "stream",
     "text": [
      "Episode : 3059 \t\t Timestep : 306000 \t\t Average Reward : 1190.64\n"
     ]
    },
    {
     "name": "stderr",
     "output_type": "stream",
     "text": [
      "  8%|█████▏                                                             | 3082/39999 [12:16<2:43:44,  3.76it/s]"
     ]
    },
    {
     "name": "stdout",
     "output_type": "stream",
     "text": [
      "Episode : 3079 \t\t Timestep : 308000 \t\t Average Reward : 1352.59\n"
     ]
    },
    {
     "name": "stderr",
     "output_type": "stream",
     "text": [
      "  8%|█████▏                                                             | 3103/39999 [12:19<1:20:49,  7.61it/s]"
     ]
    },
    {
     "name": "stdout",
     "output_type": "stream",
     "text": [
      "Episode : 3099 \t\t Timestep : 310000 \t\t Average Reward : 1366.58\n"
     ]
    },
    {
     "name": "stderr",
     "output_type": "stream",
     "text": [
      "  8%|█████▏                                                             | 3123/39999 [12:22<1:23:19,  7.38it/s]"
     ]
    },
    {
     "name": "stdout",
     "output_type": "stream",
     "text": [
      "Episode : 3119 \t\t Timestep : 312000 \t\t Average Reward : 1381.86\n"
     ]
    },
    {
     "name": "stderr",
     "output_type": "stream",
     "text": [
      "  8%|█████▎                                                             | 3143/39999 [12:26<1:23:37,  7.35it/s]"
     ]
    },
    {
     "name": "stdout",
     "output_type": "stream",
     "text": [
      "Episode : 3139 \t\t Timestep : 314000 \t\t Average Reward : 1304.71\n"
     ]
    },
    {
     "name": "stderr",
     "output_type": "stream",
     "text": [
      "  8%|█████▎                                                             | 3161/39999 [12:29<2:02:24,  5.02it/s]"
     ]
    },
    {
     "name": "stdout",
     "output_type": "stream",
     "text": [
      "Episode : 3159 \t\t Timestep : 316000 \t\t Average Reward : 1270.1\n"
     ]
    },
    {
     "name": "stderr",
     "output_type": "stream",
     "text": [
      "  8%|█████▎                                                             | 3182/39999 [12:33<1:31:44,  6.69it/s]"
     ]
    },
    {
     "name": "stdout",
     "output_type": "stream",
     "text": [
      "Episode : 3179 \t\t Timestep : 318000 \t\t Average Reward : 1258.66\n"
     ]
    },
    {
     "name": "stderr",
     "output_type": "stream",
     "text": [
      "  8%|█████▎                                                             | 3202/39999 [12:36<1:40:57,  6.07it/s]"
     ]
    },
    {
     "name": "stdout",
     "output_type": "stream",
     "text": [
      "Episode : 3199 \t\t Timestep : 320000 \t\t Average Reward : 1346.57\n"
     ]
    },
    {
     "name": "stderr",
     "output_type": "stream",
     "text": [
      "  8%|█████▍                                                             | 3222/39999 [12:40<1:41:13,  6.06it/s]"
     ]
    },
    {
     "name": "stdout",
     "output_type": "stream",
     "text": [
      "Episode : 3219 \t\t Timestep : 322000 \t\t Average Reward : 1361.03\n"
     ]
    },
    {
     "name": "stderr",
     "output_type": "stream",
     "text": [
      "  8%|█████▍                                                             | 3242/39999 [12:44<1:41:14,  6.05it/s]"
     ]
    },
    {
     "name": "stdout",
     "output_type": "stream",
     "text": [
      "Episode : 3239 \t\t Timestep : 324000 \t\t Average Reward : 1255.59\n"
     ]
    },
    {
     "name": "stderr",
     "output_type": "stream",
     "text": [
      "  8%|█████▍                                                             | 3262/39999 [12:47<1:41:41,  6.02it/s]"
     ]
    },
    {
     "name": "stdout",
     "output_type": "stream",
     "text": [
      "Episode : 3259 \t\t Timestep : 326000 \t\t Average Reward : 1296.8\n"
     ]
    },
    {
     "name": "stderr",
     "output_type": "stream",
     "text": [
      "  8%|█████▍                                                             | 3282/39999 [12:51<1:42:42,  5.96it/s]"
     ]
    },
    {
     "name": "stdout",
     "output_type": "stream",
     "text": [
      "Episode : 3279 \t\t Timestep : 328000 \t\t Average Reward : 1270.54\n"
     ]
    },
    {
     "name": "stderr",
     "output_type": "stream",
     "text": [
      "  8%|█████▌                                                             | 3302/39999 [12:56<2:07:26,  4.80it/s]"
     ]
    },
    {
     "name": "stdout",
     "output_type": "stream",
     "text": [
      "Episode : 3299 \t\t Timestep : 330000 \t\t Average Reward : 1253.27\n"
     ]
    },
    {
     "name": "stderr",
     "output_type": "stream",
     "text": [
      "  8%|█████▌                                                             | 3322/39999 [13:01<2:13:14,  4.59it/s]"
     ]
    },
    {
     "name": "stdout",
     "output_type": "stream",
     "text": [
      "Episode : 3319 \t\t Timestep : 332000 \t\t Average Reward : 1170.08\n"
     ]
    },
    {
     "name": "stderr",
     "output_type": "stream",
     "text": [
      "  8%|█████▌                                                             | 3341/39999 [13:06<3:14:51,  3.14it/s]"
     ]
    },
    {
     "name": "stdout",
     "output_type": "stream",
     "text": [
      "Episode : 3339 \t\t Timestep : 334000 \t\t Average Reward : 1249.79\n"
     ]
    },
    {
     "name": "stderr",
     "output_type": "stream",
     "text": [
      "  8%|█████▋                                                             | 3362/39999 [13:11<2:27:09,  4.15it/s]"
     ]
    },
    {
     "name": "stdout",
     "output_type": "stream",
     "text": [
      "Episode : 3359 \t\t Timestep : 336000 \t\t Average Reward : 1308.46\n"
     ]
    },
    {
     "name": "stderr",
     "output_type": "stream",
     "text": [
      "  8%|█████▋                                                             | 3382/39999 [13:16<2:04:27,  4.90it/s]"
     ]
    },
    {
     "name": "stdout",
     "output_type": "stream",
     "text": [
      "Episode : 3379 \t\t Timestep : 338000 \t\t Average Reward : 1255.96\n"
     ]
    },
    {
     "name": "stderr",
     "output_type": "stream",
     "text": [
      "  9%|█████▋                                                             | 3401/39999 [13:21<2:37:14,  3.88it/s]"
     ]
    },
    {
     "name": "stdout",
     "output_type": "stream",
     "text": [
      "Episode : 3399 \t\t Timestep : 340000 \t\t Average Reward : 1377.81\n"
     ]
    },
    {
     "name": "stderr",
     "output_type": "stream",
     "text": [
      "  9%|█████▋                                                             | 3421/39999 [13:25<2:47:06,  3.65it/s]"
     ]
    },
    {
     "name": "stdout",
     "output_type": "stream",
     "text": [
      "Episode : 3419 \t\t Timestep : 342000 \t\t Average Reward : 1297.2\n"
     ]
    },
    {
     "name": "stderr",
     "output_type": "stream",
     "text": [
      "  9%|█████▊                                                             | 3442/39999 [13:31<2:14:00,  4.55it/s]"
     ]
    },
    {
     "name": "stdout",
     "output_type": "stream",
     "text": [
      "Episode : 3439 \t\t Timestep : 344000 \t\t Average Reward : 1336.28\n"
     ]
    },
    {
     "name": "stderr",
     "output_type": "stream",
     "text": [
      "  9%|█████▊                                                             | 3461/39999 [13:35<2:24:32,  4.21it/s]"
     ]
    },
    {
     "name": "stdout",
     "output_type": "stream",
     "text": [
      "Episode : 3459 \t\t Timestep : 346000 \t\t Average Reward : 1360.55\n"
     ]
    },
    {
     "name": "stderr",
     "output_type": "stream",
     "text": [
      "  9%|█████▊                                                             | 3481/39999 [13:40<2:38:07,  3.85it/s]"
     ]
    },
    {
     "name": "stdout",
     "output_type": "stream",
     "text": [
      "Episode : 3479 \t\t Timestep : 348000 \t\t Average Reward : 1280.25\n"
     ]
    },
    {
     "name": "stderr",
     "output_type": "stream",
     "text": [
      "  9%|█████▊                                                             | 3501/39999 [13:45<2:32:34,  3.99it/s]"
     ]
    },
    {
     "name": "stdout",
     "output_type": "stream",
     "text": [
      "Episode : 3499 \t\t Timestep : 350000 \t\t Average Reward : 1364.59\n"
     ]
    },
    {
     "name": "stderr",
     "output_type": "stream",
     "text": [
      "  9%|█████▉                                                             | 3521/39999 [13:50<2:52:30,  3.52it/s]"
     ]
    },
    {
     "name": "stdout",
     "output_type": "stream",
     "text": [
      "Episode : 3519 \t\t Timestep : 352000 \t\t Average Reward : 1275.28\n"
     ]
    },
    {
     "name": "stderr",
     "output_type": "stream",
     "text": [
      "  9%|█████▉                                                             | 3541/39999 [13:55<2:25:32,  4.18it/s]"
     ]
    },
    {
     "name": "stdout",
     "output_type": "stream",
     "text": [
      "Episode : 3539 \t\t Timestep : 354000 \t\t Average Reward : 1332.49\n"
     ]
    },
    {
     "name": "stderr",
     "output_type": "stream",
     "text": [
      "  9%|█████▉                                                             | 3562/39999 [14:00<2:16:38,  4.44it/s]"
     ]
    },
    {
     "name": "stdout",
     "output_type": "stream",
     "text": [
      "Episode : 3559 \t\t Timestep : 356000 \t\t Average Reward : 1323.19\n"
     ]
    },
    {
     "name": "stderr",
     "output_type": "stream",
     "text": [
      "  9%|██████                                                             | 3582/39999 [14:05<1:56:29,  5.21it/s]"
     ]
    },
    {
     "name": "stdout",
     "output_type": "stream",
     "text": [
      "Episode : 3579 \t\t Timestep : 358000 \t\t Average Reward : 1276.31\n"
     ]
    },
    {
     "name": "stderr",
     "output_type": "stream",
     "text": [
      "  9%|██████                                                             | 3602/39999 [14:10<2:10:53,  4.63it/s]"
     ]
    },
    {
     "name": "stdout",
     "output_type": "stream",
     "text": [
      "Episode : 3599 \t\t Timestep : 360000 \t\t Average Reward : 1340.91\n"
     ]
    },
    {
     "name": "stderr",
     "output_type": "stream",
     "text": [
      "  9%|██████                                                             | 3622/39999 [14:15<1:59:38,  5.07it/s]"
     ]
    },
    {
     "name": "stdout",
     "output_type": "stream",
     "text": [
      "Episode : 3619 \t\t Timestep : 362000 \t\t Average Reward : 1356.62\n"
     ]
    },
    {
     "name": "stderr",
     "output_type": "stream",
     "text": [
      "  9%|██████                                                             | 3640/39999 [14:20<2:44:45,  3.68it/s]"
     ]
    },
    {
     "name": "stdout",
     "output_type": "stream",
     "text": [
      "Episode : 3639 \t\t Timestep : 364000 \t\t Average Reward : 1407.97\n"
     ]
    },
    {
     "name": "stderr",
     "output_type": "stream",
     "text": [
      "  9%|██████▏                                                            | 3661/39999 [14:25<2:45:21,  3.66it/s]"
     ]
    },
    {
     "name": "stdout",
     "output_type": "stream",
     "text": [
      "Episode : 3659 \t\t Timestep : 366000 \t\t Average Reward : 1367.22\n"
     ]
    },
    {
     "name": "stderr",
     "output_type": "stream",
     "text": [
      "  9%|██████▏                                                            | 3681/39999 [14:30<2:42:33,  3.72it/s]"
     ]
    },
    {
     "name": "stdout",
     "output_type": "stream",
     "text": [
      "Episode : 3679 \t\t Timestep : 368000 \t\t Average Reward : 1375.03\n"
     ]
    },
    {
     "name": "stderr",
     "output_type": "stream",
     "text": [
      "  9%|██████▏                                                            | 3701/39999 [14:35<2:25:24,  4.16it/s]"
     ]
    },
    {
     "name": "stdout",
     "output_type": "stream",
     "text": [
      "Episode : 3699 \t\t Timestep : 370000 \t\t Average Reward : 1358.75\n"
     ]
    },
    {
     "name": "stderr",
     "output_type": "stream",
     "text": [
      "  9%|██████▏                                                            | 3721/39999 [14:41<2:51:46,  3.52it/s]"
     ]
    },
    {
     "name": "stdout",
     "output_type": "stream",
     "text": [
      "Episode : 3719 \t\t Timestep : 372000 \t\t Average Reward : 1314.35\n"
     ]
    },
    {
     "name": "stderr",
     "output_type": "stream",
     "text": [
      "  9%|██████▎                                                            | 3741/39999 [14:45<2:31:30,  3.99it/s]"
     ]
    },
    {
     "name": "stdout",
     "output_type": "stream",
     "text": [
      "Episode : 3739 \t\t Timestep : 374000 \t\t Average Reward : 1264.39\n"
     ]
    },
    {
     "name": "stderr",
     "output_type": "stream",
     "text": [
      "  9%|██████▎                                                            | 3762/39999 [14:50<2:08:31,  4.70it/s]"
     ]
    },
    {
     "name": "stdout",
     "output_type": "stream",
     "text": [
      "Episode : 3759 \t\t Timestep : 376000 \t\t Average Reward : 1164.21\n"
     ]
    },
    {
     "name": "stderr",
     "output_type": "stream",
     "text": [
      "  9%|██████▎                                                            | 3782/39999 [14:55<1:43:50,  5.81it/s]"
     ]
    },
    {
     "name": "stdout",
     "output_type": "stream",
     "text": [
      "Episode : 3779 \t\t Timestep : 378000 \t\t Average Reward : 1255.17\n"
     ]
    },
    {
     "name": "stderr",
     "output_type": "stream",
     "text": [
      " 10%|██████▎                                                            | 3802/39999 [15:00<2:10:20,  4.63it/s]"
     ]
    },
    {
     "name": "stdout",
     "output_type": "stream",
     "text": [
      "Episode : 3799 \t\t Timestep : 380000 \t\t Average Reward : 1282.92\n"
     ]
    },
    {
     "name": "stderr",
     "output_type": "stream",
     "text": [
      " 10%|██████▍                                                            | 3822/39999 [15:05<2:14:52,  4.47it/s]"
     ]
    },
    {
     "name": "stdout",
     "output_type": "stream",
     "text": [
      "Episode : 3819 \t\t Timestep : 382000 \t\t Average Reward : 1274.39\n"
     ]
    },
    {
     "name": "stderr",
     "output_type": "stream",
     "text": [
      " 10%|██████▍                                                            | 3842/39999 [15:10<2:39:55,  3.77it/s]"
     ]
    },
    {
     "name": "stdout",
     "output_type": "stream",
     "text": [
      "Episode : 3839 \t\t Timestep : 384000 \t\t Average Reward : 1313.06\n"
     ]
    },
    {
     "name": "stderr",
     "output_type": "stream",
     "text": [
      " 10%|██████▍                                                            | 3862/39999 [15:15<1:58:26,  5.09it/s]"
     ]
    },
    {
     "name": "stdout",
     "output_type": "stream",
     "text": [
      "Episode : 3859 \t\t Timestep : 386000 \t\t Average Reward : 1263.91\n"
     ]
    },
    {
     "name": "stderr",
     "output_type": "stream",
     "text": [
      " 10%|██████▌                                                            | 3882/39999 [15:20<2:18:49,  4.34it/s]"
     ]
    },
    {
     "name": "stdout",
     "output_type": "stream",
     "text": [
      "Episode : 3879 \t\t Timestep : 388000 \t\t Average Reward : 1278.21\n"
     ]
    },
    {
     "name": "stderr",
     "output_type": "stream",
     "text": [
      " 10%|██████▌                                                            | 3902/39999 [15:24<1:58:31,  5.08it/s]"
     ]
    },
    {
     "name": "stdout",
     "output_type": "stream",
     "text": [
      "Episode : 3899 \t\t Timestep : 390000 \t\t Average Reward : 1333.3\n"
     ]
    },
    {
     "name": "stderr",
     "output_type": "stream",
     "text": [
      " 10%|██████▌                                                            | 3922/39999 [15:29<2:12:57,  4.52it/s]"
     ]
    },
    {
     "name": "stdout",
     "output_type": "stream",
     "text": [
      "Episode : 3919 \t\t Timestep : 392000 \t\t Average Reward : 1314.81\n"
     ]
    },
    {
     "name": "stderr",
     "output_type": "stream",
     "text": [
      " 10%|██████▌                                                            | 3940/39999 [15:34<2:45:51,  3.62it/s]"
     ]
    },
    {
     "name": "stdout",
     "output_type": "stream",
     "text": [
      "Episode : 3939 \t\t Timestep : 394000 \t\t Average Reward : 1303.97\n"
     ]
    },
    {
     "name": "stderr",
     "output_type": "stream",
     "text": [
      " 10%|██████▋                                                            | 3961/39999 [15:39<2:38:17,  3.79it/s]"
     ]
    },
    {
     "name": "stdout",
     "output_type": "stream",
     "text": [
      "Episode : 3959 \t\t Timestep : 396000 \t\t Average Reward : 1355.35\n"
     ]
    },
    {
     "name": "stderr",
     "output_type": "stream",
     "text": [
      " 10%|██████▋                                                            | 3982/39999 [15:44<2:12:13,  4.54it/s]"
     ]
    },
    {
     "name": "stdout",
     "output_type": "stream",
     "text": [
      "Episode : 3979 \t\t Timestep : 398000 \t\t Average Reward : 1368.78\n"
     ]
    },
    {
     "name": "stderr",
     "output_type": "stream",
     "text": [
      " 10%|██████▋                                                            | 4001/39999 [15:48<2:38:06,  3.79it/s]"
     ]
    },
    {
     "name": "stdout",
     "output_type": "stream",
     "text": [
      "Episode : 3999 \t\t Timestep : 400000 \t\t Average Reward : 1358.98\n",
      "--------------------------------------------------------------------------------------------\n",
      "saving model at : PPO_preTrainedPPO_Grid World_0_0.pth\n",
      "model saved\n",
      "Elapsed Time  :  0:15:49\n",
      "--------------------------------------------------------------------------------------------\n"
     ]
    },
    {
     "name": "stderr",
     "output_type": "stream",
     "text": [
      " 10%|██████▋                                                            | 4022/39999 [15:53<2:07:29,  4.70it/s]"
     ]
    },
    {
     "name": "stdout",
     "output_type": "stream",
     "text": [
      "Episode : 4019 \t\t Timestep : 402000 \t\t Average Reward : 1295.56\n"
     ]
    },
    {
     "name": "stderr",
     "output_type": "stream",
     "text": [
      " 10%|██████▊                                                            | 4042/39999 [15:58<2:08:32,  4.66it/s]"
     ]
    },
    {
     "name": "stdout",
     "output_type": "stream",
     "text": [
      "Episode : 4039 \t\t Timestep : 404000 \t\t Average Reward : 1269.5\n"
     ]
    },
    {
     "name": "stderr",
     "output_type": "stream",
     "text": [
      " 10%|██████▊                                                            | 4062/39999 [16:03<2:06:22,  4.74it/s]"
     ]
    },
    {
     "name": "stdout",
     "output_type": "stream",
     "text": [
      "Episode : 4059 \t\t Timestep : 406000 \t\t Average Reward : 1342.16\n"
     ]
    },
    {
     "name": "stderr",
     "output_type": "stream",
     "text": [
      " 10%|██████▊                                                            | 4082/39999 [16:08<2:11:06,  4.57it/s]"
     ]
    },
    {
     "name": "stdout",
     "output_type": "stream",
     "text": [
      "Episode : 4079 \t\t Timestep : 408000 \t\t Average Reward : 1212.96\n"
     ]
    },
    {
     "name": "stderr",
     "output_type": "stream",
     "text": [
      " 10%|██████▊                                                            | 4102/39999 [16:13<2:03:30,  4.84it/s]"
     ]
    },
    {
     "name": "stdout",
     "output_type": "stream",
     "text": [
      "Episode : 4099 \t\t Timestep : 410000 \t\t Average Reward : 1236.97\n"
     ]
    },
    {
     "name": "stderr",
     "output_type": "stream",
     "text": [
      " 10%|██████▉                                                            | 4122/39999 [16:18<2:09:18,  4.62it/s]"
     ]
    },
    {
     "name": "stdout",
     "output_type": "stream",
     "text": [
      "Episode : 4119 \t\t Timestep : 412000 \t\t Average Reward : 1353.99\n"
     ]
    },
    {
     "name": "stderr",
     "output_type": "stream",
     "text": [
      " 10%|██████▉                                                            | 4142/39999 [16:23<2:06:10,  4.74it/s]"
     ]
    },
    {
     "name": "stdout",
     "output_type": "stream",
     "text": [
      "Episode : 4139 \t\t Timestep : 414000 \t\t Average Reward : 1369.7\n"
     ]
    },
    {
     "name": "stderr",
     "output_type": "stream",
     "text": [
      " 10%|██████▉                                                            | 4162/39999 [16:27<2:11:54,  4.53it/s]"
     ]
    },
    {
     "name": "stdout",
     "output_type": "stream",
     "text": [
      "Episode : 4159 \t\t Timestep : 416000 \t\t Average Reward : 1320.83\n"
     ]
    },
    {
     "name": "stderr",
     "output_type": "stream",
     "text": [
      " 10%|███████                                                            | 4181/39999 [16:32<3:04:54,  3.23it/s]"
     ]
    },
    {
     "name": "stdout",
     "output_type": "stream",
     "text": [
      "Episode : 4179 \t\t Timestep : 418000 \t\t Average Reward : 1319.91\n"
     ]
    },
    {
     "name": "stderr",
     "output_type": "stream",
     "text": [
      " 11%|███████                                                            | 4202/39999 [16:37<1:53:47,  5.24it/s]"
     ]
    },
    {
     "name": "stdout",
     "output_type": "stream",
     "text": [
      "Episode : 4199 \t\t Timestep : 420000 \t\t Average Reward : 1350.62\n"
     ]
    },
    {
     "name": "stderr",
     "output_type": "stream",
     "text": [
      " 11%|███████                                                            | 4221/39999 [16:43<3:00:20,  3.31it/s]"
     ]
    },
    {
     "name": "stdout",
     "output_type": "stream",
     "text": [
      "Episode : 4219 \t\t Timestep : 422000 \t\t Average Reward : 1360.43\n"
     ]
    },
    {
     "name": "stderr",
     "output_type": "stream",
     "text": [
      " 11%|███████                                                            | 4242/39999 [16:48<2:35:57,  3.82it/s]"
     ]
    },
    {
     "name": "stdout",
     "output_type": "stream",
     "text": [
      "Episode : 4239 \t\t Timestep : 424000 \t\t Average Reward : 1295.19\n"
     ]
    },
    {
     "name": "stderr",
     "output_type": "stream",
     "text": [
      " 11%|███████▏                                                           | 4261/39999 [16:53<2:35:45,  3.82it/s]"
     ]
    },
    {
     "name": "stdout",
     "output_type": "stream",
     "text": [
      "Episode : 4259 \t\t Timestep : 426000 \t\t Average Reward : 1279.69\n"
     ]
    },
    {
     "name": "stderr",
     "output_type": "stream",
     "text": [
      " 11%|███████▏                                                           | 4281/39999 [16:58<2:42:26,  3.66it/s]"
     ]
    },
    {
     "name": "stdout",
     "output_type": "stream",
     "text": [
      "Episode : 4279 \t\t Timestep : 428000 \t\t Average Reward : 1279.89\n"
     ]
    },
    {
     "name": "stderr",
     "output_type": "stream",
     "text": [
      " 11%|███████▏                                                           | 4301/39999 [17:04<2:56:43,  3.37it/s]"
     ]
    },
    {
     "name": "stdout",
     "output_type": "stream",
     "text": [
      "Episode : 4299 \t\t Timestep : 430000 \t\t Average Reward : 1253.67\n"
     ]
    },
    {
     "name": "stderr",
     "output_type": "stream",
     "text": [
      " 11%|███████▏                                                           | 4322/39999 [17:08<1:58:59,  5.00it/s]"
     ]
    },
    {
     "name": "stdout",
     "output_type": "stream",
     "text": [
      "Episode : 4319 \t\t Timestep : 432000 \t\t Average Reward : 1293.96\n"
     ]
    },
    {
     "name": "stderr",
     "output_type": "stream",
     "text": [
      " 11%|███████▎                                                           | 4342/39999 [17:13<1:49:38,  5.42it/s]"
     ]
    },
    {
     "name": "stdout",
     "output_type": "stream",
     "text": [
      "Episode : 4339 \t\t Timestep : 434000 \t\t Average Reward : 1325.67\n"
     ]
    },
    {
     "name": "stderr",
     "output_type": "stream",
     "text": [
      " 11%|███████▎                                                           | 4362/39999 [17:18<2:16:07,  4.36it/s]"
     ]
    },
    {
     "name": "stdout",
     "output_type": "stream",
     "text": [
      "Episode : 4359 \t\t Timestep : 436000 \t\t Average Reward : 1300.33\n"
     ]
    },
    {
     "name": "stderr",
     "output_type": "stream",
     "text": [
      " 11%|███████▎                                                           | 4381/39999 [17:23<2:14:55,  4.40it/s]"
     ]
    },
    {
     "name": "stdout",
     "output_type": "stream",
     "text": [
      "Episode : 4379 \t\t Timestep : 438000 \t\t Average Reward : 1316.3\n"
     ]
    },
    {
     "name": "stderr",
     "output_type": "stream",
     "text": [
      " 11%|███████▎                                                           | 4402/39999 [17:28<2:03:57,  4.79it/s]"
     ]
    },
    {
     "name": "stdout",
     "output_type": "stream",
     "text": [
      "Episode : 4399 \t\t Timestep : 440000 \t\t Average Reward : 1326.81\n"
     ]
    },
    {
     "name": "stderr",
     "output_type": "stream",
     "text": [
      " 11%|███████▍                                                           | 4421/39999 [17:33<2:33:45,  3.86it/s]"
     ]
    },
    {
     "name": "stdout",
     "output_type": "stream",
     "text": [
      "Episode : 4419 \t\t Timestep : 442000 \t\t Average Reward : 1269.11\n"
     ]
    },
    {
     "name": "stderr",
     "output_type": "stream",
     "text": [
      " 11%|███████▍                                                           | 4441/39999 [17:38<2:43:12,  3.63it/s]"
     ]
    },
    {
     "name": "stdout",
     "output_type": "stream",
     "text": [
      "Episode : 4439 \t\t Timestep : 444000 \t\t Average Reward : 1209.49\n"
     ]
    },
    {
     "name": "stderr",
     "output_type": "stream",
     "text": [
      " 11%|███████▍                                                           | 4461/39999 [17:44<3:11:34,  3.09it/s]"
     ]
    },
    {
     "name": "stdout",
     "output_type": "stream",
     "text": [
      "Episode : 4459 \t\t Timestep : 446000 \t\t Average Reward : 1257.66\n"
     ]
    },
    {
     "name": "stderr",
     "output_type": "stream",
     "text": [
      " 11%|███████▌                                                           | 4480/39999 [17:49<3:18:30,  2.98it/s]"
     ]
    },
    {
     "name": "stdout",
     "output_type": "stream",
     "text": [
      "Episode : 4479 \t\t Timestep : 448000 \t\t Average Reward : 1271.64\n"
     ]
    },
    {
     "name": "stderr",
     "output_type": "stream",
     "text": [
      " 11%|███████▌                                                           | 4502/39999 [17:55<1:53:05,  5.23it/s]"
     ]
    },
    {
     "name": "stdout",
     "output_type": "stream",
     "text": [
      "Episode : 4499 \t\t Timestep : 450000 \t\t Average Reward : 1252.34\n"
     ]
    },
    {
     "name": "stderr",
     "output_type": "stream",
     "text": [
      " 11%|███████▌                                                           | 4521/39999 [17:59<2:38:28,  3.73it/s]"
     ]
    },
    {
     "name": "stdout",
     "output_type": "stream",
     "text": [
      "Episode : 4519 \t\t Timestep : 452000 \t\t Average Reward : 1309.59\n"
     ]
    },
    {
     "name": "stderr",
     "output_type": "stream",
     "text": [
      " 11%|███████▌                                                           | 4541/39999 [18:04<2:16:39,  4.32it/s]"
     ]
    },
    {
     "name": "stdout",
     "output_type": "stream",
     "text": [
      "Episode : 4539 \t\t Timestep : 454000 \t\t Average Reward : 1333.7\n"
     ]
    },
    {
     "name": "stderr",
     "output_type": "stream",
     "text": [
      " 11%|███████▋                                                           | 4562/39999 [18:09<2:17:46,  4.29it/s]"
     ]
    },
    {
     "name": "stdout",
     "output_type": "stream",
     "text": [
      "Episode : 4559 \t\t Timestep : 456000 \t\t Average Reward : 1285.26\n"
     ]
    },
    {
     "name": "stderr",
     "output_type": "stream",
     "text": [
      " 11%|███████▋                                                           | 4582/39999 [18:14<2:14:53,  4.38it/s]"
     ]
    },
    {
     "name": "stdout",
     "output_type": "stream",
     "text": [
      "Episode : 4579 \t\t Timestep : 458000 \t\t Average Reward : 1236.84\n"
     ]
    },
    {
     "name": "stderr",
     "output_type": "stream",
     "text": [
      " 12%|███████▋                                                           | 4602/39999 [18:19<1:55:02,  5.13it/s]"
     ]
    },
    {
     "name": "stdout",
     "output_type": "stream",
     "text": [
      "Episode : 4599 \t\t Timestep : 460000 \t\t Average Reward : 1341.36\n"
     ]
    },
    {
     "name": "stderr",
     "output_type": "stream",
     "text": [
      " 12%|███████▋                                                           | 4622/39999 [18:24<1:52:43,  5.23it/s]"
     ]
    },
    {
     "name": "stdout",
     "output_type": "stream",
     "text": [
      "Episode : 4619 \t\t Timestep : 462000 \t\t Average Reward : 1317.38\n"
     ]
    },
    {
     "name": "stderr",
     "output_type": "stream",
     "text": [
      " 12%|███████▊                                                           | 4641/39999 [18:28<2:07:14,  4.63it/s]"
     ]
    },
    {
     "name": "stdout",
     "output_type": "stream",
     "text": [
      "Episode : 4639 \t\t Timestep : 464000 \t\t Average Reward : 1223.13\n"
     ]
    },
    {
     "name": "stderr",
     "output_type": "stream",
     "text": [
      " 12%|███████▊                                                           | 4662/39999 [18:34<2:39:39,  3.69it/s]"
     ]
    },
    {
     "name": "stdout",
     "output_type": "stream",
     "text": [
      "Episode : 4659 \t\t Timestep : 466000 \t\t Average Reward : 1215.77\n"
     ]
    },
    {
     "name": "stderr",
     "output_type": "stream",
     "text": [
      " 12%|███████▊                                                           | 4681/39999 [18:39<2:21:20,  4.16it/s]"
     ]
    },
    {
     "name": "stdout",
     "output_type": "stream",
     "text": [
      "Episode : 4679 \t\t Timestep : 468000 \t\t Average Reward : 1325.43\n"
     ]
    },
    {
     "name": "stderr",
     "output_type": "stream",
     "text": [
      " 12%|███████▊                                                           | 4701/39999 [18:44<2:54:23,  3.37it/s]"
     ]
    },
    {
     "name": "stdout",
     "output_type": "stream",
     "text": [
      "Episode : 4699 \t\t Timestep : 470000 \t\t Average Reward : 1297.4\n"
     ]
    },
    {
     "name": "stderr",
     "output_type": "stream",
     "text": [
      " 12%|███████▉                                                           | 4722/39999 [18:49<2:01:35,  4.84it/s]"
     ]
    },
    {
     "name": "stdout",
     "output_type": "stream",
     "text": [
      "Episode : 4719 \t\t Timestep : 472000 \t\t Average Reward : 1293.66\n"
     ]
    },
    {
     "name": "stderr",
     "output_type": "stream",
     "text": [
      " 12%|███████▉                                                           | 4740/39999 [18:53<2:58:34,  3.29it/s]"
     ]
    },
    {
     "name": "stdout",
     "output_type": "stream",
     "text": [
      "Episode : 4739 \t\t Timestep : 474000 \t\t Average Reward : 1286.39\n"
     ]
    },
    {
     "name": "stderr",
     "output_type": "stream",
     "text": [
      " 12%|███████▉                                                           | 4760/39999 [18:58<2:36:25,  3.75it/s]"
     ]
    },
    {
     "name": "stdout",
     "output_type": "stream",
     "text": [
      "Episode : 4759 \t\t Timestep : 476000 \t\t Average Reward : 1330.54\n"
     ]
    },
    {
     "name": "stderr",
     "output_type": "stream",
     "text": [
      " 12%|████████                                                           | 4782/39999 [19:03<1:49:32,  5.36it/s]"
     ]
    },
    {
     "name": "stdout",
     "output_type": "stream",
     "text": [
      "Episode : 4779 \t\t Timestep : 478000 \t\t Average Reward : 1255.9\n"
     ]
    },
    {
     "name": "stderr",
     "output_type": "stream",
     "text": [
      " 12%|████████                                                           | 4802/39999 [19:08<1:53:43,  5.16it/s]"
     ]
    },
    {
     "name": "stdout",
     "output_type": "stream",
     "text": [
      "Episode : 4799 \t\t Timestep : 480000 \t\t Average Reward : 1270.19\n"
     ]
    },
    {
     "name": "stderr",
     "output_type": "stream",
     "text": [
      " 12%|████████                                                           | 4820/39999 [19:12<2:43:47,  3.58it/s]"
     ]
    },
    {
     "name": "stdout",
     "output_type": "stream",
     "text": [
      "Episode : 4819 \t\t Timestep : 482000 \t\t Average Reward : 1320.99\n"
     ]
    },
    {
     "name": "stderr",
     "output_type": "stream",
     "text": [
      " 12%|████████                                                           | 4840/39999 [19:17<2:57:25,  3.30it/s]"
     ]
    },
    {
     "name": "stdout",
     "output_type": "stream",
     "text": [
      "Episode : 4839 \t\t Timestep : 484000 \t\t Average Reward : 1261.58\n"
     ]
    },
    {
     "name": "stderr",
     "output_type": "stream",
     "text": [
      " 12%|████████▏                                                          | 4862/39999 [19:23<2:06:48,  4.62it/s]"
     ]
    },
    {
     "name": "stdout",
     "output_type": "stream",
     "text": [
      "Episode : 4859 \t\t Timestep : 486000 \t\t Average Reward : 1375.84\n"
     ]
    },
    {
     "name": "stderr",
     "output_type": "stream",
     "text": [
      " 12%|████████▏                                                          | 4882/39999 [19:27<1:58:01,  4.96it/s]"
     ]
    },
    {
     "name": "stdout",
     "output_type": "stream",
     "text": [
      "Episode : 4879 \t\t Timestep : 488000 \t\t Average Reward : 1383.38\n"
     ]
    },
    {
     "name": "stderr",
     "output_type": "stream",
     "text": [
      " 12%|████████▏                                                          | 4902/39999 [19:32<1:59:44,  4.88it/s]"
     ]
    },
    {
     "name": "stdout",
     "output_type": "stream",
     "text": [
      "Episode : 4899 \t\t Timestep : 490000 \t\t Average Reward : 1301.77\n"
     ]
    },
    {
     "name": "stderr",
     "output_type": "stream",
     "text": [
      " 12%|████████▏                                                          | 4921/39999 [19:36<2:22:58,  4.09it/s]"
     ]
    },
    {
     "name": "stdout",
     "output_type": "stream",
     "text": [
      "Episode : 4919 \t\t Timestep : 492000 \t\t Average Reward : 1302.4\n"
     ]
    },
    {
     "name": "stderr",
     "output_type": "stream",
     "text": [
      " 12%|████████▎                                                          | 4942/39999 [19:42<2:09:48,  4.50it/s]"
     ]
    },
    {
     "name": "stdout",
     "output_type": "stream",
     "text": [
      "Episode : 4939 \t\t Timestep : 494000 \t\t Average Reward : 1171.2\n"
     ]
    },
    {
     "name": "stderr",
     "output_type": "stream",
     "text": [
      " 12%|████████▎                                                          | 4962/39999 [19:47<2:30:57,  3.87it/s]"
     ]
    },
    {
     "name": "stdout",
     "output_type": "stream",
     "text": [
      "Episode : 4959 \t\t Timestep : 496000 \t\t Average Reward : 1271.32\n"
     ]
    },
    {
     "name": "stderr",
     "output_type": "stream",
     "text": [
      " 12%|████████▎                                                          | 4982/39999 [19:52<2:14:29,  4.34it/s]"
     ]
    },
    {
     "name": "stdout",
     "output_type": "stream",
     "text": [
      "Episode : 4979 \t\t Timestep : 498000 \t\t Average Reward : 1304.76\n"
     ]
    },
    {
     "name": "stderr",
     "output_type": "stream",
     "text": [
      " 13%|████████▍                                                          | 5002/39999 [19:58<2:06:16,  4.62it/s]"
     ]
    },
    {
     "name": "stdout",
     "output_type": "stream",
     "text": [
      "Episode : 4999 \t\t Timestep : 500000 \t\t Average Reward : 1246.71\n",
      "--------------------------------------------------------------------------------------------\n",
      "saving model at : PPO_preTrainedPPO_Grid World_0_0.pth\n",
      "model saved\n",
      "Elapsed Time  :  0:19:58\n",
      "--------------------------------------------------------------------------------------------\n"
     ]
    },
    {
     "name": "stderr",
     "output_type": "stream",
     "text": [
      " 13%|████████▍                                                          | 5021/39999 [20:02<2:22:52,  4.08it/s]"
     ]
    },
    {
     "name": "stdout",
     "output_type": "stream",
     "text": [
      "Episode : 5019 \t\t Timestep : 502000 \t\t Average Reward : 1381.12\n"
     ]
    },
    {
     "name": "stderr",
     "output_type": "stream",
     "text": [
      " 13%|████████▍                                                          | 5041/39999 [20:07<2:20:20,  4.15it/s]"
     ]
    },
    {
     "name": "stdout",
     "output_type": "stream",
     "text": [
      "Episode : 5039 \t\t Timestep : 504000 \t\t Average Reward : 1359.17\n"
     ]
    },
    {
     "name": "stderr",
     "output_type": "stream",
     "text": [
      " 13%|████████▍                                                          | 5061/39999 [20:12<2:38:18,  3.68it/s]"
     ]
    },
    {
     "name": "stdout",
     "output_type": "stream",
     "text": [
      "Episode : 5059 \t\t Timestep : 506000 \t\t Average Reward : 1314.94\n"
     ]
    },
    {
     "name": "stderr",
     "output_type": "stream",
     "text": [
      " 13%|████████▌                                                          | 5081/39999 [20:18<2:30:44,  3.86it/s]"
     ]
    },
    {
     "name": "stdout",
     "output_type": "stream",
     "text": [
      "Episode : 5079 \t\t Timestep : 508000 \t\t Average Reward : 1280.12\n"
     ]
    },
    {
     "name": "stderr",
     "output_type": "stream",
     "text": [
      " 13%|████████▌                                                          | 5101/39999 [20:23<2:40:11,  3.63it/s]"
     ]
    },
    {
     "name": "stdout",
     "output_type": "stream",
     "text": [
      "Episode : 5099 \t\t Timestep : 510000 \t\t Average Reward : 1315.16\n"
     ]
    },
    {
     "name": "stderr",
     "output_type": "stream",
     "text": [
      " 13%|████████▌                                                          | 5122/39999 [20:28<1:59:05,  4.88it/s]"
     ]
    },
    {
     "name": "stdout",
     "output_type": "stream",
     "text": [
      "Episode : 5119 \t\t Timestep : 512000 \t\t Average Reward : 1372.6\n"
     ]
    },
    {
     "name": "stderr",
     "output_type": "stream",
     "text": [
      " 13%|████████▌                                                          | 5140/39999 [20:33<3:55:18,  2.47it/s]"
     ]
    },
    {
     "name": "stdout",
     "output_type": "stream",
     "text": [
      "Episode : 5139 \t\t Timestep : 514000 \t\t Average Reward : 1303.65\n"
     ]
    },
    {
     "name": "stderr",
     "output_type": "stream",
     "text": [
      " 13%|████████▋                                                          | 5161/39999 [20:39<2:39:20,  3.64it/s]"
     ]
    },
    {
     "name": "stdout",
     "output_type": "stream",
     "text": [
      "Episode : 5159 \t\t Timestep : 516000 \t\t Average Reward : 1305.5\n"
     ]
    },
    {
     "name": "stderr",
     "output_type": "stream",
     "text": [
      " 13%|████████▋                                                          | 5181/39999 [20:44<2:44:47,  3.52it/s]"
     ]
    },
    {
     "name": "stdout",
     "output_type": "stream",
     "text": [
      "Episode : 5179 \t\t Timestep : 518000 \t\t Average Reward : 1409.52\n"
     ]
    },
    {
     "name": "stderr",
     "output_type": "stream",
     "text": [
      " 13%|████████▋                                                          | 5202/39999 [20:49<2:08:27,  4.51it/s]"
     ]
    },
    {
     "name": "stdout",
     "output_type": "stream",
     "text": [
      "Episode : 5199 \t\t Timestep : 520000 \t\t Average Reward : 1361.1\n"
     ]
    },
    {
     "name": "stderr",
     "output_type": "stream",
     "text": [
      " 13%|████████▋                                                          | 5220/39999 [20:54<2:34:36,  3.75it/s]"
     ]
    },
    {
     "name": "stdout",
     "output_type": "stream",
     "text": [
      "Episode : 5219 \t\t Timestep : 522000 \t\t Average Reward : 1372.62\n"
     ]
    },
    {
     "name": "stderr",
     "output_type": "stream",
     "text": [
      " 13%|████████▊                                                          | 5241/39999 [21:00<3:03:58,  3.15it/s]"
     ]
    },
    {
     "name": "stdout",
     "output_type": "stream",
     "text": [
      "Episode : 5239 \t\t Timestep : 524000 \t\t Average Reward : 1292.42\n"
     ]
    },
    {
     "name": "stderr",
     "output_type": "stream",
     "text": [
      " 13%|████████▊                                                          | 5262/39999 [21:05<1:45:04,  5.51it/s]"
     ]
    },
    {
     "name": "stdout",
     "output_type": "stream",
     "text": [
      "Episode : 5259 \t\t Timestep : 526000 \t\t Average Reward : 1352.01\n"
     ]
    },
    {
     "name": "stderr",
     "output_type": "stream",
     "text": [
      " 13%|████████▊                                                          | 5281/39999 [21:10<2:07:04,  4.55it/s]"
     ]
    },
    {
     "name": "stdout",
     "output_type": "stream",
     "text": [
      "Episode : 5279 \t\t Timestep : 528000 \t\t Average Reward : 1212.24\n"
     ]
    },
    {
     "name": "stderr",
     "output_type": "stream",
     "text": [
      " 13%|████████▉                                                          | 5302/39999 [21:15<2:22:17,  4.06it/s]"
     ]
    },
    {
     "name": "stdout",
     "output_type": "stream",
     "text": [
      "Episode : 5299 \t\t Timestep : 530000 \t\t Average Reward : 1273.43\n"
     ]
    },
    {
     "name": "stderr",
     "output_type": "stream",
     "text": [
      " 13%|████████▉                                                          | 5322/39999 [21:20<2:01:29,  4.76it/s]"
     ]
    },
    {
     "name": "stdout",
     "output_type": "stream",
     "text": [
      "Episode : 5319 \t\t Timestep : 532000 \t\t Average Reward : 1384.46\n"
     ]
    },
    {
     "name": "stderr",
     "output_type": "stream",
     "text": [
      " 13%|████████▉                                                          | 5342/39999 [21:24<1:59:50,  4.82it/s]"
     ]
    },
    {
     "name": "stdout",
     "output_type": "stream",
     "text": [
      "Episode : 5339 \t\t Timestep : 534000 \t\t Average Reward : 1258.7\n"
     ]
    },
    {
     "name": "stderr",
     "output_type": "stream",
     "text": [
      " 13%|████████▉                                                          | 5361/39999 [21:29<2:26:13,  3.95it/s]"
     ]
    },
    {
     "name": "stdout",
     "output_type": "stream",
     "text": [
      "Episode : 5359 \t\t Timestep : 536000 \t\t Average Reward : 1282.75\n"
     ]
    },
    {
     "name": "stderr",
     "output_type": "stream",
     "text": [
      " 13%|█████████                                                          | 5381/39999 [21:34<2:37:07,  3.67it/s]"
     ]
    },
    {
     "name": "stdout",
     "output_type": "stream",
     "text": [
      "Episode : 5379 \t\t Timestep : 538000 \t\t Average Reward : 1311.38\n"
     ]
    },
    {
     "name": "stderr",
     "output_type": "stream",
     "text": [
      " 14%|█████████                                                          | 5401/39999 [21:39<2:24:29,  3.99it/s]"
     ]
    },
    {
     "name": "stdout",
     "output_type": "stream",
     "text": [
      "Episode : 5399 \t\t Timestep : 540000 \t\t Average Reward : 1347.92\n"
     ]
    },
    {
     "name": "stderr",
     "output_type": "stream",
     "text": [
      " 14%|█████████                                                          | 5421/39999 [21:44<2:32:24,  3.78it/s]"
     ]
    },
    {
     "name": "stdout",
     "output_type": "stream",
     "text": [
      "Episode : 5419 \t\t Timestep : 542000 \t\t Average Reward : 1304.36\n"
     ]
    },
    {
     "name": "stderr",
     "output_type": "stream",
     "text": [
      " 14%|█████████                                                          | 5442/39999 [21:50<2:25:38,  3.95it/s]"
     ]
    },
    {
     "name": "stdout",
     "output_type": "stream",
     "text": [
      "Episode : 5439 \t\t Timestep : 544000 \t\t Average Reward : 1368.45\n"
     ]
    },
    {
     "name": "stderr",
     "output_type": "stream",
     "text": [
      " 14%|█████████▏                                                         | 5462/39999 [21:55<2:11:09,  4.39it/s]"
     ]
    },
    {
     "name": "stdout",
     "output_type": "stream",
     "text": [
      "Episode : 5459 \t\t Timestep : 546000 \t\t Average Reward : 1328.44\n"
     ]
    },
    {
     "name": "stderr",
     "output_type": "stream",
     "text": [
      " 14%|█████████▏                                                         | 5482/39999 [22:00<1:50:00,  5.23it/s]"
     ]
    },
    {
     "name": "stdout",
     "output_type": "stream",
     "text": [
      "Episode : 5479 \t\t Timestep : 548000 \t\t Average Reward : 1286.08\n"
     ]
    },
    {
     "name": "stderr",
     "output_type": "stream",
     "text": [
      " 14%|█████████▏                                                         | 5502/39999 [22:05<2:37:37,  3.65it/s]"
     ]
    },
    {
     "name": "stdout",
     "output_type": "stream",
     "text": [
      "Episode : 5499 \t\t Timestep : 550000 \t\t Average Reward : 1270.03\n"
     ]
    },
    {
     "name": "stderr",
     "output_type": "stream",
     "text": [
      " 14%|█████████▏                                                         | 5521/39999 [22:10<2:34:04,  3.73it/s]"
     ]
    },
    {
     "name": "stdout",
     "output_type": "stream",
     "text": [
      "Episode : 5519 \t\t Timestep : 552000 \t\t Average Reward : 1300.32\n"
     ]
    },
    {
     "name": "stderr",
     "output_type": "stream",
     "text": [
      " 14%|█████████▎                                                         | 5541/39999 [22:15<2:13:52,  4.29it/s]"
     ]
    },
    {
     "name": "stdout",
     "output_type": "stream",
     "text": [
      "Episode : 5539 \t\t Timestep : 554000 \t\t Average Reward : 1299.62\n"
     ]
    },
    {
     "name": "stderr",
     "output_type": "stream",
     "text": [
      " 14%|█████████▎                                                         | 5562/39999 [22:20<2:03:53,  4.63it/s]"
     ]
    },
    {
     "name": "stdout",
     "output_type": "stream",
     "text": [
      "Episode : 5559 \t\t Timestep : 556000 \t\t Average Reward : 1322.48\n"
     ]
    },
    {
     "name": "stderr",
     "output_type": "stream",
     "text": [
      " 14%|█████████▎                                                         | 5582/39999 [22:25<2:04:13,  4.62it/s]"
     ]
    },
    {
     "name": "stdout",
     "output_type": "stream",
     "text": [
      "Episode : 5579 \t\t Timestep : 558000 \t\t Average Reward : 1358.31\n"
     ]
    },
    {
     "name": "stderr",
     "output_type": "stream",
     "text": [
      " 14%|█████████▍                                                         | 5601/39999 [22:29<2:24:46,  3.96it/s]"
     ]
    },
    {
     "name": "stdout",
     "output_type": "stream",
     "text": [
      "Episode : 5599 \t\t Timestep : 560000 \t\t Average Reward : 1420.86\n"
     ]
    },
    {
     "name": "stderr",
     "output_type": "stream",
     "text": [
      " 14%|█████████▍                                                         | 5621/39999 [22:34<2:07:03,  4.51it/s]"
     ]
    },
    {
     "name": "stdout",
     "output_type": "stream",
     "text": [
      "Episode : 5619 \t\t Timestep : 562000 \t\t Average Reward : 1307.37\n"
     ]
    },
    {
     "name": "stderr",
     "output_type": "stream",
     "text": [
      " 14%|█████████▍                                                         | 5641/39999 [22:39<2:21:14,  4.05it/s]"
     ]
    },
    {
     "name": "stdout",
     "output_type": "stream",
     "text": [
      "Episode : 5639 \t\t Timestep : 564000 \t\t Average Reward : 1257.22\n"
     ]
    },
    {
     "name": "stderr",
     "output_type": "stream",
     "text": [
      " 14%|█████████▍                                                         | 5661/39999 [22:45<2:22:46,  4.01it/s]"
     ]
    },
    {
     "name": "stdout",
     "output_type": "stream",
     "text": [
      "Episode : 5659 \t\t Timestep : 566000 \t\t Average Reward : 1269.53\n"
     ]
    },
    {
     "name": "stderr",
     "output_type": "stream",
     "text": [
      " 14%|█████████▌                                                         | 5682/39999 [22:49<2:03:29,  4.63it/s]"
     ]
    },
    {
     "name": "stdout",
     "output_type": "stream",
     "text": [
      "Episode : 5679 \t\t Timestep : 568000 \t\t Average Reward : 1336.72\n"
     ]
    },
    {
     "name": "stderr",
     "output_type": "stream",
     "text": [
      " 14%|█████████▌                                                         | 5701/39999 [22:54<2:42:52,  3.51it/s]"
     ]
    },
    {
     "name": "stdout",
     "output_type": "stream",
     "text": [
      "Episode : 5699 \t\t Timestep : 570000 \t\t Average Reward : 1317.21\n"
     ]
    },
    {
     "name": "stderr",
     "output_type": "stream",
     "text": [
      " 14%|█████████▌                                                         | 5721/39999 [22:59<2:40:59,  3.55it/s]"
     ]
    },
    {
     "name": "stdout",
     "output_type": "stream",
     "text": [
      "Episode : 5719 \t\t Timestep : 572000 \t\t Average Reward : 1277.55\n"
     ]
    },
    {
     "name": "stderr",
     "output_type": "stream",
     "text": [
      " 14%|█████████▌                                                         | 5742/39999 [23:04<1:59:27,  4.78it/s]"
     ]
    },
    {
     "name": "stdout",
     "output_type": "stream",
     "text": [
      "Episode : 5739 \t\t Timestep : 574000 \t\t Average Reward : 1330.19\n"
     ]
    },
    {
     "name": "stderr",
     "output_type": "stream",
     "text": [
      " 14%|█████████▋                                                         | 5762/39999 [23:09<2:04:59,  4.57it/s]"
     ]
    },
    {
     "name": "stdout",
     "output_type": "stream",
     "text": [
      "Episode : 5759 \t\t Timestep : 576000 \t\t Average Reward : 1306.51\n"
     ]
    },
    {
     "name": "stderr",
     "output_type": "stream",
     "text": [
      " 14%|█████████▋                                                         | 5781/39999 [23:14<2:36:31,  3.64it/s]"
     ]
    },
    {
     "name": "stdout",
     "output_type": "stream",
     "text": [
      "Episode : 5779 \t\t Timestep : 578000 \t\t Average Reward : 1318.16\n"
     ]
    },
    {
     "name": "stderr",
     "output_type": "stream",
     "text": [
      " 15%|█████████▋                                                         | 5802/39999 [23:18<2:08:24,  4.44it/s]"
     ]
    },
    {
     "name": "stdout",
     "output_type": "stream",
     "text": [
      "Episode : 5799 \t\t Timestep : 580000 \t\t Average Reward : 1324.0\n"
     ]
    },
    {
     "name": "stderr",
     "output_type": "stream",
     "text": [
      " 15%|█████████▊                                                         | 5822/39999 [23:23<1:49:56,  5.18it/s]"
     ]
    },
    {
     "name": "stdout",
     "output_type": "stream",
     "text": [
      "Episode : 5819 \t\t Timestep : 582000 \t\t Average Reward : 1271.94\n"
     ]
    },
    {
     "name": "stderr",
     "output_type": "stream",
     "text": [
      " 15%|█████████▊                                                         | 5842/39999 [23:27<1:49:38,  5.19it/s]"
     ]
    },
    {
     "name": "stdout",
     "output_type": "stream",
     "text": [
      "Episode : 5839 \t\t Timestep : 584000 \t\t Average Reward : 1326.65\n"
     ]
    },
    {
     "name": "stderr",
     "output_type": "stream",
     "text": [
      " 15%|█████████▊                                                         | 5862/39999 [23:32<1:44:36,  5.44it/s]"
     ]
    },
    {
     "name": "stdout",
     "output_type": "stream",
     "text": [
      "Episode : 5859 \t\t Timestep : 586000 \t\t Average Reward : 1330.63\n"
     ]
    },
    {
     "name": "stderr",
     "output_type": "stream",
     "text": [
      " 15%|█████████▊                                                         | 5882/39999 [23:37<2:19:40,  4.07it/s]"
     ]
    },
    {
     "name": "stdout",
     "output_type": "stream",
     "text": [
      "Episode : 5879 \t\t Timestep : 588000 \t\t Average Reward : 1270.19\n"
     ]
    },
    {
     "name": "stderr",
     "output_type": "stream",
     "text": [
      " 15%|█████████▉                                                         | 5901/39999 [23:42<2:26:58,  3.87it/s]"
     ]
    },
    {
     "name": "stdout",
     "output_type": "stream",
     "text": [
      "Episode : 5899 \t\t Timestep : 590000 \t\t Average Reward : 1362.26\n"
     ]
    },
    {
     "name": "stderr",
     "output_type": "stream",
     "text": [
      " 15%|█████████▉                                                         | 5922/39999 [23:47<2:09:38,  4.38it/s]"
     ]
    },
    {
     "name": "stdout",
     "output_type": "stream",
     "text": [
      "Episode : 5919 \t\t Timestep : 592000 \t\t Average Reward : 1253.6\n"
     ]
    },
    {
     "name": "stderr",
     "output_type": "stream",
     "text": [
      " 15%|█████████▉                                                         | 5941/39999 [23:51<2:06:12,  4.50it/s]"
     ]
    },
    {
     "name": "stdout",
     "output_type": "stream",
     "text": [
      "Episode : 5939 \t\t Timestep : 594000 \t\t Average Reward : 1293.5\n"
     ]
    },
    {
     "name": "stderr",
     "output_type": "stream",
     "text": [
      " 15%|█████████▉                                                         | 5962/39999 [23:56<1:55:40,  4.90it/s]"
     ]
    },
    {
     "name": "stdout",
     "output_type": "stream",
     "text": [
      "Episode : 5959 \t\t Timestep : 596000 \t\t Average Reward : 1218.95\n"
     ]
    },
    {
     "name": "stderr",
     "output_type": "stream",
     "text": [
      " 15%|██████████                                                         | 5981/39999 [24:00<2:07:18,  4.45it/s]"
     ]
    },
    {
     "name": "stdout",
     "output_type": "stream",
     "text": [
      "Episode : 5979 \t\t Timestep : 598000 \t\t Average Reward : 1298.62\n"
     ]
    },
    {
     "name": "stderr",
     "output_type": "stream",
     "text": [
      " 15%|██████████                                                         | 6002/39999 [24:05<2:05:59,  4.50it/s]"
     ]
    },
    {
     "name": "stdout",
     "output_type": "stream",
     "text": [
      "Episode : 5999 \t\t Timestep : 600000 \t\t Average Reward : 1308.81\n",
      "--------------------------------------------------------------------------------------------\n",
      "saving model at : PPO_preTrainedPPO_Grid World_0_0.pth\n",
      "model saved\n",
      "Elapsed Time  :  0:24:06\n",
      "--------------------------------------------------------------------------------------------\n"
     ]
    },
    {
     "name": "stderr",
     "output_type": "stream",
     "text": [
      " 15%|██████████                                                         | 6022/39999 [24:10<1:56:32,  4.86it/s]"
     ]
    },
    {
     "name": "stdout",
     "output_type": "stream",
     "text": [
      "Episode : 6019 \t\t Timestep : 602000 \t\t Average Reward : 1426.06\n"
     ]
    },
    {
     "name": "stderr",
     "output_type": "stream",
     "text": [
      " 15%|██████████                                                         | 6042/39999 [24:15<1:56:08,  4.87it/s]"
     ]
    },
    {
     "name": "stdout",
     "output_type": "stream",
     "text": [
      "Episode : 6039 \t\t Timestep : 604000 \t\t Average Reward : 1386.1\n"
     ]
    },
    {
     "name": "stderr",
     "output_type": "stream",
     "text": [
      " 15%|██████████▏                                                        | 6061/39999 [24:20<2:20:44,  4.02it/s]"
     ]
    },
    {
     "name": "stdout",
     "output_type": "stream",
     "text": [
      "Episode : 6059 \t\t Timestep : 606000 \t\t Average Reward : 1334.42\n"
     ]
    },
    {
     "name": "stderr",
     "output_type": "stream",
     "text": [
      " 15%|██████████▏                                                        | 6081/39999 [24:25<2:30:05,  3.77it/s]"
     ]
    },
    {
     "name": "stdout",
     "output_type": "stream",
     "text": [
      "Episode : 6079 \t\t Timestep : 608000 \t\t Average Reward : 1372.96\n"
     ]
    },
    {
     "name": "stderr",
     "output_type": "stream",
     "text": [
      " 15%|██████████▏                                                        | 6102/39999 [24:30<2:02:46,  4.60it/s]"
     ]
    },
    {
     "name": "stdout",
     "output_type": "stream",
     "text": [
      "Episode : 6099 \t\t Timestep : 610000 \t\t Average Reward : 1387.93\n"
     ]
    },
    {
     "name": "stderr",
     "output_type": "stream",
     "text": [
      " 15%|██████████▎                                                        | 6121/39999 [24:35<2:32:33,  3.70it/s]"
     ]
    },
    {
     "name": "stdout",
     "output_type": "stream",
     "text": [
      "Episode : 6119 \t\t Timestep : 612000 \t\t Average Reward : 1386.72\n"
     ]
    },
    {
     "name": "stderr",
     "output_type": "stream",
     "text": [
      " 15%|██████████▎                                                        | 6141/39999 [24:39<2:05:10,  4.51it/s]"
     ]
    },
    {
     "name": "stdout",
     "output_type": "stream",
     "text": [
      "Episode : 6139 \t\t Timestep : 614000 \t\t Average Reward : 1377.49\n"
     ]
    },
    {
     "name": "stderr",
     "output_type": "stream",
     "text": [
      " 15%|██████████▎                                                        | 6162/39999 [24:44<1:54:59,  4.90it/s]"
     ]
    },
    {
     "name": "stdout",
     "output_type": "stream",
     "text": [
      "Episode : 6159 \t\t Timestep : 616000 \t\t Average Reward : 1223.06\n"
     ]
    },
    {
     "name": "stderr",
     "output_type": "stream",
     "text": [
      " 15%|██████████▎                                                        | 6182/39999 [24:48<1:41:36,  5.55it/s]"
     ]
    },
    {
     "name": "stdout",
     "output_type": "stream",
     "text": [
      "Episode : 6179 \t\t Timestep : 618000 \t\t Average Reward : 1306.18\n"
     ]
    },
    {
     "name": "stderr",
     "output_type": "stream",
     "text": [
      " 16%|██████████▍                                                        | 6202/39999 [24:53<2:05:03,  4.50it/s]"
     ]
    },
    {
     "name": "stdout",
     "output_type": "stream",
     "text": [
      "Episode : 6199 \t\t Timestep : 620000 \t\t Average Reward : 1312.89\n"
     ]
    },
    {
     "name": "stderr",
     "output_type": "stream",
     "text": [
      " 16%|██████████▍                                                        | 6222/39999 [24:58<1:54:27,  4.92it/s]"
     ]
    },
    {
     "name": "stdout",
     "output_type": "stream",
     "text": [
      "Episode : 6219 \t\t Timestep : 622000 \t\t Average Reward : 1269.7\n"
     ]
    },
    {
     "name": "stderr",
     "output_type": "stream",
     "text": [
      " 16%|██████████▍                                                        | 6242/39999 [25:03<2:00:53,  4.65it/s]"
     ]
    },
    {
     "name": "stdout",
     "output_type": "stream",
     "text": [
      "Episode : 6239 \t\t Timestep : 624000 \t\t Average Reward : 1343.61\n"
     ]
    },
    {
     "name": "stderr",
     "output_type": "stream",
     "text": [
      " 16%|██████████▍                                                        | 6262/39999 [25:08<2:16:14,  4.13it/s]"
     ]
    },
    {
     "name": "stdout",
     "output_type": "stream",
     "text": [
      "Episode : 6259 \t\t Timestep : 626000 \t\t Average Reward : 1385.61\n"
     ]
    },
    {
     "name": "stderr",
     "output_type": "stream",
     "text": [
      " 16%|██████████▌                                                        | 6281/39999 [25:13<2:48:54,  3.33it/s]"
     ]
    },
    {
     "name": "stdout",
     "output_type": "stream",
     "text": [
      "Episode : 6279 \t\t Timestep : 628000 \t\t Average Reward : 1196.37\n"
     ]
    },
    {
     "name": "stderr",
     "output_type": "stream",
     "text": [
      " 16%|██████████▌                                                        | 6302/39999 [25:18<2:01:07,  4.64it/s]"
     ]
    },
    {
     "name": "stdout",
     "output_type": "stream",
     "text": [
      "Episode : 6299 \t\t Timestep : 630000 \t\t Average Reward : 1327.79\n"
     ]
    },
    {
     "name": "stderr",
     "output_type": "stream",
     "text": [
      " 16%|██████████▌                                                        | 6322/39999 [25:23<1:51:32,  5.03it/s]"
     ]
    },
    {
     "name": "stdout",
     "output_type": "stream",
     "text": [
      "Episode : 6319 \t\t Timestep : 632000 \t\t Average Reward : 1194.04\n"
     ]
    },
    {
     "name": "stderr",
     "output_type": "stream",
     "text": [
      " 16%|██████████▌                                                        | 6341/39999 [25:28<2:14:33,  4.17it/s]"
     ]
    },
    {
     "name": "stdout",
     "output_type": "stream",
     "text": [
      "Episode : 6339 \t\t Timestep : 634000 \t\t Average Reward : 1310.54\n"
     ]
    },
    {
     "name": "stderr",
     "output_type": "stream",
     "text": [
      " 16%|██████████▋                                                        | 6362/39999 [25:33<2:02:18,  4.58it/s]"
     ]
    },
    {
     "name": "stdout",
     "output_type": "stream",
     "text": [
      "Episode : 6359 \t\t Timestep : 636000 \t\t Average Reward : 1197.09\n"
     ]
    },
    {
     "name": "stderr",
     "output_type": "stream",
     "text": [
      " 16%|██████████▋                                                        | 6370/39999 [25:35<2:10:03,  4.31it/s]"
     ]
    }
   ],
   "source": [
    "import os\n",
    "import glob\n",
    "import time\n",
    "from datetime import datetime\n",
    "\n",
    "import torch\n",
    "import numpy as np\n",
    "\n",
    "\n",
    "################################### Training ###################################\n",
    "def train():\n",
    "    print(\"============================================================================================\")\n",
    "\n",
    "    ####### initialize environment hyperparameters ######\n",
    "    env_name = \"Grid World\"\n",
    "\n",
    "    has_continuous_action_space = False  # continuous action space; else discrete\n",
    "\n",
    "    max_ep_len = 100                   # max timesteps in one episode\n",
    "    max_training_timesteps = int(3e6)   # break training loop if timeteps > max_training_timesteps\n",
    "\n",
    "    print_freq = max_ep_len * 20        # print avg reward in the interval (in num timesteps)\n",
    "    log_freq = max_ep_len * 2           # log avg reward in the interval (in num timesteps)\n",
    "    save_model_freq = int(1e5)          # save model frequency (in num timesteps)\n",
    "\n",
    "    action_std = 0.6                    # starting std for action distribution (Multivariate Normal)\n",
    "    action_std_decay_rate = 0.05        # linearly decay action_std (action_std = action_std - action_std_decay_rate)\n",
    "    min_action_std = 0.1                # minimum action_std (stop decay after action_std <= min_action_std)\n",
    "    action_std_decay_freq = int(2.5e5)  # action_std decay frequency (in num timesteps)\n",
    "    #####################################################\n",
    "\n",
    "    ## Note : print/log frequencies should be > than max_ep_len\n",
    "\n",
    "    ################ PPO hyperparameters ################\n",
    "    update_timestep = max_ep_len * 4      # update policy every n timesteps\n",
    "    K_epochs = 80               # update policy for K epochs in one PPO update\n",
    "\n",
    "    eps_clip = 0.2          # clip parameter for PPO\n",
    "    gamma = 0.99            # discount factor\n",
    "\n",
    "    lr_actor = 0.0003       # learning rate for actor network\n",
    "    lr_critic = 0.001       # learning rate for critic network\n",
    "\n",
    "    random_seed = 0         # set random seed if required (0 = no random seed)\n",
    "    #####################################################\n",
    "\n",
    "    env = Simulator()\n",
    "    \n",
    "#     state_dim = env.observation_space.shape[0]\n",
    "\n",
    "    if has_continuous_action_space:\n",
    "        action_dim = env.action_space.shape[0]\n",
    "    else:\n",
    "        action_dim = 4\n",
    "\n",
    "    ###################### logging ######################\n",
    "\n",
    "    #### log files for multiple runs are NOT overwritten\n",
    "    log_dir = \"PPO_logs\"\n",
    "    if not os.path.exists(log_dir):\n",
    "          os.makedirs(log_dir)\n",
    "\n",
    "#     log_dir = log_dir + '/' + env_name + '/'\n",
    "#     if not os.path.exists(log_dir):\n",
    "#           os.makedirs(log_dir)\n",
    "\n",
    "    #### get number of log files in log directory\n",
    "    run_num = 0\n",
    "    current_num_files = next(os.walk(log_dir))[2]\n",
    "    run_num = len(current_num_files)\n",
    "\n",
    "    #### create new log file for each run\n",
    "    log_f_name = log_dir + '/PPO_' + env_name + \"_log_\" + str(run_num) + \".csv\"\n",
    "\n",
    "    print(\"current logging run number for \" + env_name + \" : \", run_num)\n",
    "    print(\"logging at : \" + log_f_name)\n",
    "    #####################################################\n",
    "\n",
    "    ################### checkpointing ###################\n",
    "    run_num_pretrained = 0      #### change this to prevent overwriting weights in same env_name folder\n",
    "\n",
    "    directory = \"PPO_preTrained\"\n",
    "    if not os.path.exists(directory):\n",
    "          os.makedirs(directory)\n",
    "\n",
    "#     directory = directory + '/' + env_name + '/'\n",
    "#     if not os.path.exists(directory):\n",
    "#           os.makedirs(directory)\n",
    "\n",
    "\n",
    "    checkpoint_path = directory + \"PPO_{}_{}_{}.pth\".format(env_name, random_seed, run_num_pretrained)\n",
    "    print(\"save checkpoint path : \" + checkpoint_path)\n",
    "    #####################################################\n",
    "\n",
    "    \n",
    "    ################# training procedure ################\n",
    "\n",
    "    # initialize a PPO agent\n",
    "    ppo_agent = PPO(action_dim, lr_actor, lr_critic, gamma, K_epochs, eps_clip, has_continuous_action_space, action_std)\n",
    "\n",
    "    # track total training time\n",
    "    start_time = datetime.now().replace(microsecond=0)\n",
    "    print(\"Started training at (GMT) : \", start_time)\n",
    "\n",
    "    print(\"============================================================================================\")\n",
    "\n",
    "    # logging file\n",
    "    log_f = open(log_f_name,\"w+\")\n",
    "    log_f.write('episode,timestep,reward\\n')\n",
    "\n",
    "    # printing and logging variables\n",
    "    print_running_reward = 0\n",
    "    print_running_episodes = 0\n",
    "\n",
    "    log_running_reward = 0\n",
    "    log_running_episodes = 0\n",
    "\n",
    "    time_step = 0\n",
    "    i_episode = 0\n",
    "\n",
    "    # training loop\n",
    "    while time_step <= max_training_timesteps:\n",
    "        for epi in tqdm(range(39999)):\n",
    "            state = env.reset(epi)\n",
    "            current_ep_reward = 0\n",
    "\n",
    "\n",
    "            for t in range(1, max_ep_len+1):\n",
    "\n",
    "                state = torch.from_numpy(state).float()\n",
    "                state = torch.reshape(state, (-1, 1, 10, 9))\n",
    "\n",
    "                action = ppo_agent.select_action(state)\n",
    "\n",
    "                state, reward, cumul, done, goal_reward = env.step(action)\n",
    "    #             state, reward, drewardone, _ = env.step(action)\n",
    "                if reward < 0:\n",
    "                    reward = reward + reward*(t)*0.1\n",
    "\n",
    "                # saving reward and is_terminals\n",
    "                ppo_agent.buffer.rewards.append(reward)\n",
    "                ppo_agent.buffer.is_terminals.append(done)\n",
    "\n",
    "                time_step +=1\n",
    "                current_ep_reward += reward\n",
    "\n",
    "                # update PPO agent\n",
    "                if time_step % update_timestep == 0:\n",
    "                    ppo_agent.update()\n",
    "\n",
    "                # if continuous action space; then decay action std of ouput action distribution\n",
    "                if has_continuous_action_space and time_step % action_std_decay_freq == 0:\n",
    "                    ppo_agent.decay_action_std(action_std_decay_rate, min_action_std)\n",
    "\n",
    "                # log in logging file\n",
    "                if time_step % log_freq == 0:\n",
    "\n",
    "                    # log average reward till last episode\n",
    "                    log_avg_reward = log_running_reward / log_running_episodes\n",
    "                    log_avg_reward = round(log_avg_reward, 4)\n",
    "\n",
    "                    log_f.write('{},{},{}\\n'.format(i_episode, time_step, log_avg_reward))\n",
    "                    log_f.flush()\n",
    "\n",
    "                    log_running_reward = 0\n",
    "                    log_running_episodes = 0\n",
    "\n",
    "                # printing average reward\n",
    "                if time_step % print_freq == 0:\n",
    "\n",
    "                    # print average reward till last episode\n",
    "                    print_avg_reward = print_running_reward / print_running_episodes\n",
    "                    print_avg_reward = round(print_avg_reward, 2)\n",
    "\n",
    "                    print(\"Episode : {} \\t\\t Timestep : {} \\t\\t Average Reward : {}\".format(i_episode, time_step, print_avg_reward))\n",
    "\n",
    "                    print_running_reward = 0\n",
    "                    print_running_episodes = 0\n",
    "\n",
    "                # save model weights\n",
    "                if time_step % save_model_freq == 0:\n",
    "                    print(\"--------------------------------------------------------------------------------------------\")\n",
    "                    print(\"saving model at : \" + checkpoint_path)\n",
    "                    ppo_agent.save(checkpoint_path)\n",
    "                    print(\"model saved\")\n",
    "                    print(\"Elapsed Time  : \", datetime.now().replace(microsecond=0) - start_time)\n",
    "                    print(\"--------------------------------------------------------------------------------------------\")\n",
    "\n",
    "                # break; if the episode is over\n",
    "                if done:\n",
    "                    break\n",
    "\n",
    "            print_running_reward += current_ep_reward\n",
    "            print_running_episodes += 1\n",
    "\n",
    "            log_running_reward += current_ep_reward\n",
    "            log_running_episodes += 1\n",
    "\n",
    "            i_episode += 1\n",
    "\n",
    "    log_f.close()\n",
    "    env.close()\n",
    "\n",
    "    # print total training time\n",
    "    print(\"============================================================================================\")\n",
    "    end_time = datetime.now().replace(microsecond=0)\n",
    "    print(\"Started training at (GMT) : \", start_time)\n",
    "    print(\"Finished training at (GMT) : \", end_time)\n",
    "    print(\"Total training time  : \", end_time - start_time)\n",
    "    print(\"============================================================================================\")\n",
    "\n",
    "\n",
    "if __name__ == '__main__':\n",
    "\n",
    "    train()"
   ]
  },
  {
   "cell_type": "code",
   "execution_count": null,
   "id": "ebc47a41",
   "metadata": {},
   "outputs": [],
   "source": []
  }
 ],
 "metadata": {
  "kernelspec": {
   "display_name": "Python 3 (ipykernel)",
   "language": "python",
   "name": "python3"
  },
  "language_info": {
   "codemirror_mode": {
    "name": "ipython",
    "version": 3
   },
   "file_extension": ".py",
   "mimetype": "text/x-python",
   "name": "python",
   "nbconvert_exporter": "python",
   "pygments_lexer": "ipython3",
   "version": "3.7.13"
  }
 },
 "nbformat": 4,
 "nbformat_minor": 5
}
