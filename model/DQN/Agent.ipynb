{
 "cells": [
  {
   "cell_type": "markdown",
   "id": "90b15147",
   "metadata": {},
   "source": [
    "## DQN Agent 😗"
   ]
  },
  {
   "cell_type": "code",
   "execution_count": 2,
   "id": "5f76bc41",
   "metadata": {},
   "outputs": [
    {
     "name": "stderr",
     "output_type": "stream",
     "text": [
      "/home/zlxlekta924/anaconda3/envs/test/lib/python3.7/site-packages/tqdm/auto.py:22: TqdmWarning: IProgress not found. Please update jupyter and ipywidgets. See https://ipywidgets.readthedocs.io/en/stable/user_install.html\n",
      "  from .autonotebook import tqdm as notebook_tqdm\n"
     ]
    }
   ],
   "source": [
    "import collections\n",
    "import random\n",
    "from tqdm import tqdm\n",
    "\n",
    "import torch\n",
    "import torch.nn as nn\n",
    "import torch.nn.functional as F\n",
    "import torch.optim as optim\n",
    "\n",
    "\n",
    "from Sim import *"
   ]
  },
  {
   "cell_type": "code",
   "execution_count": 3,
   "id": "c356aac0",
   "metadata": {},
   "outputs": [],
   "source": [
    "## Replay buffer\n",
    "\n",
    "class ReplayBuffer():\n",
    "    '''\n",
    "    시행한 step 을 하나의 sample 로 저장한다. Network 학습 시 사용된다. \n",
    "    :buffer_limit: 메모리에 저장할 sample size\n",
    "    '''\n",
    "    \n",
    "    def __init__(self):\n",
    "        self.buffer = collections.deque(maxlen=buffer_limit)\n",
    "\n",
    "    def put(self, transition):\n",
    "        self.buffer.append(transition)\n",
    "\n",
    "    def sample(self, n):\n",
    "        mini_batch = random.sample(self.buffer, n)     #sample 메서드 : buffer 중에 n 개만 뽑음\n",
    "        s_lst, a_lst, r_lst, s_prime_lst, done_mask_lst = [], [], [], [], []\n",
    "                                                        # state 값, action 값, reward 값, 다음 state 값, done_mask 값\n",
    "                                                        # done_mask : 종료 상태 - 0 과 진행 상태 -1\n",
    "\n",
    "        for transition in mini_batch:   \n",
    "            s, a, r, s_prime, done_mask = transition \n",
    "\n",
    "            s_lst.append(s)\n",
    "            a_lst.append([a]) \n",
    "            r_lst.append([r])\n",
    "            s_prime_lst.append(s_prime)\n",
    "            done_mask_lst.append([done_mask])\n",
    "\n",
    "        return torch.tensor(s_lst, dtype=torch. float), torch.tensor(a_lst), torch.tensor(r_lst), torch.tensor(s_prime_lst, dtype=torch. float), torch.tensor(done_mask_lst)\n",
    "\n",
    "    def size(self):\n",
    "        return len(self.buffer)"
   ]
  },
  {
   "cell_type": "code",
   "execution_count": 4,
   "id": "b2f6fe62",
   "metadata": {},
   "outputs": [],
   "source": [
    "class DQN(nn.Module):\n",
    "    '''\n",
    "    Agent 가 Action 을 시행할 때 사용하는 Network, 3개의 convolution layer 와 2개의 Fully Conneted layer 로 구성된다.\n",
    "    Network 를 통해 나온 Action 을 (100 - epsilon)/100 의 확률로 반환한다.\n",
    "    \n",
    "    :epsilon: 탐험비율\n",
    "    '''\n",
    "    \n",
    "    def __init__(self):\n",
    "        super(QnetCNN, self).__init__()\n",
    "        \n",
    "        \n",
    "        self.layer1 = nn.Sequential(\n",
    "            nn.Conv2d(in_channels=1, out_channels=6, kernel_size=5),\n",
    "            nn.ReLU())\n",
    "\n",
    "        self.layer2 = nn.Sequential(\n",
    "            nn.Conv2d(6, 16, kernel_size=3),\n",
    "            nn.ReLU())\n",
    "        \n",
    "        self.layer3 = nn.Sequential(\n",
    "            nn.Conv2d(16, 32, kernel_size=3),\n",
    "            nn.ReLU())\n",
    "    \n",
    "        #Flatten\n",
    "        self.flatten = nn.Flatten()\n",
    "\n",
    "        self.fc1 = nn.Linear(64, 16)\n",
    "        self.fc2 = nn.Linear(16, 4)\n",
    "        \n",
    "    def forward(self,x):\n",
    "        x = torch.from_numpy(np.asarray(x)).float()\n",
    "        x = torch.reshape(x, (-1, 1, 10, 9))\n",
    "        \n",
    "        x = self.layer1(x)\n",
    "        x = self.layer2(x)\n",
    "        x = self.layer3(x)\n",
    "        x = self.flatten(x)\n",
    "        x = self.fc1(x)\n",
    "        x = self.fc2(x)# 좌우상하 4개의 값을 반환\n",
    "        return x\n",
    "\n",
    "    def sample_action(self, obs, epsilon):\n",
    "        out = self.forward(obs) \n",
    "        coin = random.random() \n",
    "        \n",
    "\n",
    "        if coin < epsilon: \n",
    "            return random.randint(0,3)\n",
    "        else:\n",
    "            return out.argmax().item() "
   ]
  },
  {
   "cell_type": "code",
   "execution_count": 5,
   "id": "dffd635f",
   "metadata": {},
   "outputs": [],
   "source": [
    "def train(q, q_target, memory, optimizer): \n",
    "    for i in range(10):                                         # 10번 반복학습. 임의로 설정했다.\n",
    "        s, a, r, s_prime, done_mask = memory.sample(batch_size) # batch_size 개를 버퍼에서 뽑아 모아 놓은 s,a,r,s_prime,done_mask\n",
    "        q_out = q(s)                                            # s 값으로 다음 각 action 값들의 value 값 반환\n",
    "        q_a = q_out.gather(1,a)                                 #선택한 액션값들의 q(s,a) 반환\n",
    "        max_q_prime = q_target(s_prime).max(1)[0].unsqueeze(1)  # 다음 state의 각 q(s,a) 값 반환\n",
    "        target = r + gamma * max_q_prime * done_mask            # gamma : 다음 step 보상의 감가율\n",
    "        \n",
    "        loss = F.smooth_l1_loss(q_a, target)                    # DQN 의 손실함수 계산\n",
    "        optimizer.zero_grad()                                   \n",
    "        loss.backward()                                         # loss 에 대한 gradient 계산\n",
    "        optimizer.step()                                        # 손실값을 바탕으로 DQN 의 파라미터 업데이트"
   ]
  },
  {
   "cell_type": "code",
   "execution_count": 6,
   "id": "f70b16f1",
   "metadata": {},
   "outputs": [],
   "source": [
    "def model_save(model_dict, epi):    \n",
    "    PATH = './weights/'\n",
    "    torch.save({\n",
    "            'model': model_dict,\n",
    "            'epi': epi,\n",
    "            }, PATH + 'weights.tar')"
   ]
  },
  {
   "cell_type": "markdown",
   "id": "ffd9eb40",
   "metadata": {},
   "source": [
    "## Step 🦿"
   ]
  },
  {
   "cell_type": "code",
   "execution_count": 23,
   "id": "77ad9395",
   "metadata": {
    "scrolled": true
   },
   "outputs": [
    {
     "name": "stderr",
     "output_type": "stream",
     "text": [
      "100%|██████████████████████████████████████████████████████████████████████| 1226/1226 [00:28<00:00, 43.65it/s]"
     ]
    },
    {
     "name": "stdout",
     "output_type": "stream",
     "text": [
      "총 1226 개의 test 데이터 중 1211 개 CLEAR : 성공률 0.99\n",
      "총 1211 개의 CLEAR 데이터 총 Action 수는 48066 이며, Episode 당 평균 Action 수는 39.69\n"
     ]
    },
    {
     "name": "stderr",
     "output_type": "stream",
     "text": [
      "\n"
     ]
    }
   ],
   "source": [
    "learning_rate = 0.0001 \n",
    "gamma         = 0.99\n",
    "buffer_limit  = 100000\n",
    "batch_size    = 128\n",
    "\n",
    "USE_CUDA = torch.cuda.is_available()\n",
    "device = torch.device('cuda:0' if USE_CUDA else 'cpu')\n",
    "\n",
    "def main():\n",
    "    env = Simulator()\n",
    "    files = pd.read_csv(\"./data/factory_order_test.csv\")\n",
    "\n",
    "    q = DQN()\n",
    "    q_target = DQN()\n",
    "    optimizer = optim.Adam(q.parameters(), lr = learning_rate) \n",
    "    memory = ReplayBuffer()\n",
    "\n",
    "    # checkpoint\n",
    "    #PATH = './weights/'\n",
    "    #checkpoint = torch.load(PATH+'weights.tar')\n",
    "    #q.load_state_dict(checkpoint['model'])\n",
    "    #q.eval()\n",
    "    \n",
    "    q_target.load_state_dict(q.state_dict())      \n",
    "    score = 0.0\n",
    "    cnt = 0\n",
    "\n",
    "    for epi in tqdm(range(len(files))):\n",
    "        if epi%1000 == 0:\n",
    "            model_save(q.state_dict(), epi)\n",
    "            \n",
    "        epsilon = 0.0\n",
    "        masking = False\n",
    "\n",
    "        ep = epi%2380\n",
    "\n",
    "        s = env.reset(epi)\n",
    "        obs = np.asarray(s, dtype=np.float32) \n",
    "\n",
    "        a_step = 0\n",
    "        done = False \n",
    "        first = True\n",
    "        \n",
    "        while not done: \n",
    "\n",
    "            if first:\n",
    "                a = 0\n",
    "                first = False\n",
    "                \n",
    "            else:\n",
    "                a = q.sample_action(torch.from_numpy(obs).float(), epsilon) \n",
    "            \n",
    "            s_prime, r, cumul, done, goal_of_reward = env.step(a)\n",
    "            \n",
    "            if done:\n",
    "                cnt += 1\n",
    "                masking = True\n",
    "            \n",
    "            if a_step == 300:\n",
    "                done = True\n",
    "            \n",
    "            array = s_prime\n",
    "            s_prime = np.asarray(s_prime, dtype=np.float32)\n",
    "            obs = s_prime \n",
    "\n",
    "            done_mask = 0.0 if done else 1.0\n",
    "            memory.put((obs, a, r/100, s_prime, done_mask))\n",
    "\n",
    "            score += r\n",
    "            a_step +=1 \n",
    "\n",
    "    print(f'총 {len(files)} 개의 test 데이터 중 {cnt} 개 CLEAR : 성공률 {round(cnt/len(files), 2)}')\n",
    "    print(f'총 {cnt} 개의 CLEAR 데이터 총 Action 수는 {env.ac()} 이며, Episode 당 평균 Action 수는 {round(env.ac()/cnt,2)}')\n",
    "\n",
    "main()"
   ]
  },
  {
   "cell_type": "markdown",
   "id": "9e76edd4",
   "metadata": {},
   "source": [
    "## Episode Example 🐚\n",
    "\n",
    "<img src=\"./agent.gif\" width=300px>"
   ]
  },
  {
   "cell_type": "code",
   "execution_count": null,
   "id": "cd6063e1",
   "metadata": {},
   "outputs": [],
   "source": []
  }
 ],
 "metadata": {
  "kernelspec": {
   "display_name": "Python 3 (ipykernel)",
   "language": "python",
   "name": "python3"
  },
  "language_info": {
   "codemirror_mode": {
    "name": "ipython",
    "version": 3
   },
   "file_extension": ".py",
   "mimetype": "text/x-python",
   "name": "python",
   "nbconvert_exporter": "python",
   "pygments_lexer": "ipython3",
   "version": "3.10.1"
  }
 },
 "nbformat": 4,
 "nbformat_minor": 5
}
